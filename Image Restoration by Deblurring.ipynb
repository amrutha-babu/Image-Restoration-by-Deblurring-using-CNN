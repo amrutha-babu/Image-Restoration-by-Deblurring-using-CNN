{
 "cells": [
  {
   "cell_type": "markdown",
   "metadata": {},
   "source": [
    "# Import Package"
   ]
  },
  {
   "cell_type": "code",
   "execution_count": 1,
   "metadata": {},
   "outputs": [],
   "source": [
    "from tkinter import *\n",
    "from tkinter import messagebox\n",
    "from tkinter import filedialog\n",
    "import tkinter as tk\n",
    "import os \n",
    "from PIL import Image, ImageTk\n",
    "#import re\n",
    "\n",
    "import cv2\n",
    "import numpy as np\n",
    "import matplotlib.pyplot as plt\n",
    "import glob\n",
    "import torch\n",
    "import torchvision\n",
    "import torch.nn as nn\n",
    "#import torch.nn.functional as F\n",
    "import torch.optim as optim\n",
    "import time\n",
    "import albumentations\n",
    "import argparse\n",
    "\n",
    "from tqdm import tqdm\n",
    "from torch.utils.data import Dataset, DataLoader\n",
    "from torchvision.transforms import transforms\n",
    "from torchvision.utils import save_image\n",
    "from sklearn.model_selection import train_test_split"
   ]
  },
  {
   "cell_type": "markdown",
   "metadata": {},
   "source": [
    "# Paths of Directories"
   ]
  },
  {
   "cell_type": "code",
   "execution_count": 2,
   "metadata": {},
   "outputs": [],
   "source": [
    "sharp_dir = '../Dataset/sharp/'\n",
    "gblur_dir = '../Dataset/gaussian_blurred/'\n",
    "out_dir = '../outputs/'\n",
    "image_dir = out_dir + 'saved_images/'"
   ]
  },
  {
   "cell_type": "markdown",
   "metadata": {},
   "source": [
    "# Define Device"
   ]
  },
  {
   "cell_type": "code",
   "execution_count": 3,
   "metadata": {},
   "outputs": [
    {
     "name": "stdout",
     "output_type": "stream",
     "text": [
      "cpu\n"
     ]
    },
    {
     "name": "stderr",
     "output_type": "stream",
     "text": [
      "C:\\Users\\hp\\anaconda3\\lib\\site-packages\\torch\\cuda\\__init__.py:52: UserWarning: CUDA initialization: Found no NVIDIA driver on your system. Please check that you have an NVIDIA GPU and installed a driver from http://www.nvidia.com/Download/index.aspx (Triggered internally at  ..\\c10\\cuda\\CUDAFunctions.cpp:100.)\n",
      "  return torch._C._cuda_getDeviceCount() > 0\n"
     ]
    }
   ],
   "source": [
    "if torch.cuda.is_available():\n",
    "    device = 'cuda:0' \n",
    "else:\n",
    "    device = 'cpu'\n",
    "print(device)"
   ]
  },
  {
   "cell_type": "markdown",
   "metadata": {},
   "source": [
    "# Save Image"
   ]
  },
  {
   "cell_type": "code",
   "execution_count": 4,
   "metadata": {},
   "outputs": [],
   "source": [
    "def save_decoded_image(img, name):\n",
    "    img = img.view(img.size(0), 3, 224, 224)\n",
    "    save_image(img, name)"
   ]
  },
  {
   "cell_type": "markdown",
   "metadata": {},
   "source": [
    "# Auto Encoder"
   ]
  },
  {
   "cell_type": "code",
   "execution_count": 5,
   "metadata": {},
   "outputs": [],
   "source": [
    "# CNN Auto Encoder \n",
    "class SimpleAE(nn.Module):\n",
    "    def __init__(self):\n",
    "        super(SimpleAE, self).__init__() # call the constructor of parent class \n",
    "        self.encoder = nn.Sequential(\n",
    "            nn.Conv2d(3, 32, kernel_size=5),\n",
    "            nn.ReLU(True),\n",
    "            nn.Conv2d(32, 64, kernel_size=5),\n",
    "            nn.ReLU(True))\n",
    "        self.decoder = nn.Sequential(             \n",
    "            nn.ConvTranspose2d(64, 32, kernel_size=5),\n",
    "            nn.ReLU(True),\n",
    "            nn.ConvTranspose2d(32, 3, kernel_size=5),\n",
    "            nn.ReLU(True))\n",
    "    def forward(self,x):\n",
    "        x = self.encoder(x)\n",
    "        x = self.decoder(x)\n",
    "        return x"
   ]
  },
  {
   "cell_type": "markdown",
   "metadata": {},
   "source": [
    "# Define Model"
   ]
  },
  {
   "cell_type": "code",
   "execution_count": 6,
   "metadata": {},
   "outputs": [
    {
     "name": "stdout",
     "output_type": "stream",
     "text": [
      "SimpleAE(\n",
      "  (encoder): Sequential(\n",
      "    (0): Conv2d(3, 32, kernel_size=(5, 5), stride=(1, 1))\n",
      "    (1): ReLU(inplace=True)\n",
      "    (2): Conv2d(32, 64, kernel_size=(5, 5), stride=(1, 1))\n",
      "    (3): ReLU(inplace=True)\n",
      "  )\n",
      "  (decoder): Sequential(\n",
      "    (0): ConvTranspose2d(64, 32, kernel_size=(5, 5), stride=(1, 1))\n",
      "    (1): ReLU(inplace=True)\n",
      "    (2): ConvTranspose2d(32, 3, kernel_size=(5, 5), stride=(1, 1))\n",
      "    (3): ReLU(inplace=True)\n",
      "  )\n",
      ")\n"
     ]
    }
   ],
   "source": [
    "# Define Model\n",
    "model = SimpleAE().to(device)\n",
    "print(model)"
   ]
  },
  {
   "cell_type": "markdown",
   "metadata": {},
   "source": [
    "# Define Epoch"
   ]
  },
  {
   "cell_type": "code",
   "execution_count": 7,
   "metadata": {},
   "outputs": [
    {
     "name": "stdout",
     "output_type": "stream",
     "text": [
      "60\n"
     ]
    }
   ],
   "source": [
    "#parser = argparse.ArgumentParser()\n",
    "#parser.add_argument('-e', '--epochs', type=int, default=60, help='number of epochs to train the model for')\n",
    "#args = parser.parse_known_args()[0]\n",
    "#epochs=args.epochs\n",
    "epochs = 60\n",
    "print(epochs)"
   ]
  },
  {
   "cell_type": "markdown",
   "metadata": {},
   "source": [
    "# Construct Output Directory"
   ]
  },
  {
   "cell_type": "code",
   "execution_count": 8,
   "metadata": {},
   "outputs": [],
   "source": [
    "#image_dir = '../outputs/saved_images'\n",
    "#os.makedirs(image_dir, exist_ok=True)"
   ]
  },
  {
   "cell_type": "markdown",
   "metadata": {},
   "source": [
    "# Define Transforms"
   ]
  },
  {
   "cell_type": "code",
   "execution_count": 9,
   "metadata": {},
   "outputs": [],
   "source": [
    "# Define transforms\n",
    "transform = transforms.Compose([\n",
    "    transforms.ToPILImage(),\n",
    "    transforms.Resize((224, 224)),\n",
    "    transforms.ToTensor(),\n",
    "])"
   ]
  },
  {
   "cell_type": "markdown",
   "metadata": {},
   "source": [
    "# Define Loss Function"
   ]
  },
  {
   "cell_type": "code",
   "execution_count": 10,
   "metadata": {},
   "outputs": [],
   "source": [
    "criterion = nn.MSELoss()"
   ]
  },
  {
   "cell_type": "markdown",
   "metadata": {},
   "source": [
    "# Define Batch Size"
   ]
  },
  {
   "cell_type": "code",
   "execution_count": 11,
   "metadata": {},
   "outputs": [],
   "source": [
    "batch_size = 1"
   ]
  },
  {
   "cell_type": "markdown",
   "metadata": {},
   "source": [
    "# Define Optimizer"
   ]
  },
  {
   "cell_type": "code",
   "execution_count": 12,
   "metadata": {},
   "outputs": [],
   "source": [
    "optimizer = optim.Adam(model.parameters(), lr=0.001)\n",
    "scheduler = torch.optim.lr_scheduler.ReduceLROnPlateau( \n",
    "        optimizer,\n",
    "        mode='min',\n",
    "        patience=5,\n",
    "        factor=0.1,\n",
    "        verbose=True\n",
    "    )"
   ]
  },
  {
   "cell_type": "markdown",
   "metadata": {},
   "source": [
    "# Train"
   ]
  },
  {
   "cell_type": "markdown",
   "metadata": {},
   "source": [
    "## Add Guassian Blur"
   ]
  },
  {
   "cell_type": "code",
   "execution_count": 13,
   "metadata": {},
   "outputs": [
    {
     "data": {
      "text/plain": [
       "'# Add guassian blur\\nimages = os.listdir(sharp_dir)\\nfor i, img in tqdm(enumerate(images), total=len(images)):\\n    img = cv2.imread(f\"{sharp_dir}{images[i]}\")\\n    # add gaussian blurring\\n    blur = cv2.GaussianBlur(img, (51, 51), 0)\\n    dest = images[i].split(\".\")[0][:-2]\\n    dest = os.path.join(gblur_dir,dest+\"_G.jpg\")\\n    cv2.imwrite(f\"{dest}\", blur)\\nprint(\\'DONE\\')'"
      ]
     },
     "execution_count": 13,
     "metadata": {},
     "output_type": "execute_result"
    }
   ],
   "source": [
    "'''# Add guassian blur\n",
    "images = os.listdir(sharp_dir)\n",
    "for i, img in tqdm(enumerate(images), total=len(images)):\n",
    "    img = cv2.imread(f\"{sharp_dir}{images[i]}\")\n",
    "    # add gaussian blurring\n",
    "    blur = cv2.GaussianBlur(img, (51, 51), 0)\n",
    "    dest = images[i].split(\".\")[0][:-2]\n",
    "    dest = os.path.join(gblur_dir,dest+\"_G.jpg\")\n",
    "    cv2.imwrite(f\"{dest}\", blur)\n",
    "print('DONE')'''"
   ]
  },
  {
   "cell_type": "markdown",
   "metadata": {},
   "source": [
    "## Form Input and Output Dataset"
   ]
  },
  {
   "cell_type": "code",
   "execution_count": 14,
   "metadata": {},
   "outputs": [
    {
     "name": "stdout",
     "output_type": "stream",
     "text": [
      "(350,)\n",
      "(350,)\n"
     ]
    }
   ],
   "source": [
    "# form input and output dataset\n",
    "gauss_blur = os.listdir(gblur_dir) \n",
    "gauss_blur.sort() \n",
    "sharp = os.listdir(sharp_dir) \n",
    "sharp.sort()\n",
    "X = []\n",
    "for i in range(len(gauss_blur )):\n",
    "    X.append(gblur_dir + gauss_blur[i])\n",
    "Y = []\n",
    "for i in range(len(sharp)):\n",
    "    Y.append(sharp_dir + sharp[i])\n",
    "print(np.shape(X))\n",
    "print(np.shape(Y)) "
   ]
  },
  {
   "cell_type": "code",
   "execution_count": 15,
   "metadata": {},
   "outputs": [
    {
     "data": {
      "text/plain": [
       "['../Dataset/gaussian_blurred/0_IPHONE-SE_G.jpg',\n",
       " '../Dataset/gaussian_blurred/100_NIKON-D3400-35MM_G.jpg',\n",
       " '../Dataset/gaussian_blurred/101_NIKON-D3400-35MM_G.jpg',\n",
       " '../Dataset/gaussian_blurred/102_NIKON-D3400-35MM_G.jpg',\n",
       " '../Dataset/gaussian_blurred/103_HUAWEI-P20_G.jpg',\n",
       " '../Dataset/gaussian_blurred/104_IPHONE-SE_G.jpg',\n",
       " '../Dataset/gaussian_blurred/105_IPHONE-SE_G.jpg',\n",
       " '../Dataset/gaussian_blurred/106_NIKON-D3400-35MM_G.jpg',\n",
       " '../Dataset/gaussian_blurred/107_XIAOMI-MI8-SE_G.jpg',\n",
       " '../Dataset/gaussian_blurred/108_XIAOMI-MI8-SE_G.jpg',\n",
       " '../Dataset/gaussian_blurred/109_HONOR-7X_G.jpg',\n",
       " '../Dataset/gaussian_blurred/10_ASUS-ZENFONE-LIVE-ZB501KL_G.jpg',\n",
       " '../Dataset/gaussian_blurred/110_IPHONE-7_G.jpg',\n",
       " '../Dataset/gaussian_blurred/111_IPHONE-7_G.jpg',\n",
       " '../Dataset/gaussian_blurred/112_NIKON-D3400-35MM_G.jpg',\n",
       " '../Dataset/gaussian_blurred/113_SAMSUNG-GALAXY-A5_G.jpg',\n",
       " '../Dataset/gaussian_blurred/114_ASUS-ZE500KL_G.jpg',\n",
       " '../Dataset/gaussian_blurred/115_NIKON-D3400-35MM_G.jpg',\n",
       " '../Dataset/gaussian_blurred/116_BQ-5512L_G.jpg',\n",
       " '../Dataset/gaussian_blurred/117_HONOR-7X_G.jpg',\n",
       " '../Dataset/gaussian_blurred/118_HONOR-7X_G.jpg',\n",
       " '../Dataset/gaussian_blurred/119_HONOR-7X_G.jpg',\n",
       " '../Dataset/gaussian_blurred/11_XIAOMI-MI8-SE_G.jpg',\n",
       " '../Dataset/gaussian_blurred/120_HONOR-7X_G.jpg',\n",
       " '../Dataset/gaussian_blurred/121_HONOR-7X_G.jpg',\n",
       " '../Dataset/gaussian_blurred/122_HONOR-7X_G.jpg',\n",
       " '../Dataset/gaussian_blurred/123_NIKON-D3400-35MM_G.jpg',\n",
       " '../Dataset/gaussian_blurred/124_HONOR-7X_G.jpg',\n",
       " '../Dataset/gaussian_blurred/125_NIKON-D3400-35MM_G.jpg',\n",
       " '../Dataset/gaussian_blurred/126_NIKON-D3400-18-55MM_G.jpg',\n",
       " '../Dataset/gaussian_blurred/127_IPHONE-8_G.jpg',\n",
       " '../Dataset/gaussian_blurred/128_XIAOMI-MI8-SE_G.jpg',\n",
       " '../Dataset/gaussian_blurred/129_NIKON-D3400-18-55MM_G.jpg',\n",
       " '../Dataset/gaussian_blurred/12_SAMSUNG-GALAXY-J5_G.jpg',\n",
       " '../Dataset/gaussian_blurred/130_NIKON-D3400-18-55MM_G.jpg',\n",
       " '../Dataset/gaussian_blurred/131_NIKON-D3400-18-55MM_G.jpg',\n",
       " '../Dataset/gaussian_blurred/132_NIKON-D3400-18-55MM_G.jpg',\n",
       " '../Dataset/gaussian_blurred/133_NIKON-D3400-18-55MM_G.jpg',\n",
       " '../Dataset/gaussian_blurred/134_NIKON-D3400-18-55MM_G.jpg',\n",
       " '../Dataset/gaussian_blurred/135_NIKON-D3400-18-55MM_G.jpg',\n",
       " '../Dataset/gaussian_blurred/136_XIAOMI-REDMI-3S_G.jpg',\n",
       " '../Dataset/gaussian_blurred/137_NIKON-D3400-18-55MM_G.jpg',\n",
       " '../Dataset/gaussian_blurred/138_NIKON-D3400-35MM_G.jpg',\n",
       " '../Dataset/gaussian_blurred/139_NIKON-D3400-18-55MM_G.jpg',\n",
       " '../Dataset/gaussian_blurred/13_IPHONE-8-PLUS_G.jpg',\n",
       " '../Dataset/gaussian_blurred/140_SAMSUNG-GALAXY-J5_G.jpg',\n",
       " '../Dataset/gaussian_blurred/141_NIKON-D3400-18-55MM_G.jpg',\n",
       " '../Dataset/gaussian_blurred/142_NIKON-D3400-18-55MM_G.jpg',\n",
       " '../Dataset/gaussian_blurred/143_NIKON-D3400-18-55MM_G.jpg',\n",
       " '../Dataset/gaussian_blurred/144_NIKON-D3400-18-55MM_G.jpg',\n",
       " '../Dataset/gaussian_blurred/145_NIKON-D3400-18-55MM_G.jpg',\n",
       " '../Dataset/gaussian_blurred/146_NIKON-D3400-18-55MM_G.jpg',\n",
       " '../Dataset/gaussian_blurred/147_NIKON-D3400-35MM_G.jpg',\n",
       " '../Dataset/gaussian_blurred/148_NIKON-D3400-18-55MM_G.jpg',\n",
       " '../Dataset/gaussian_blurred/149_NIKON-D3400-18-55MM_G.jpg',\n",
       " '../Dataset/gaussian_blurred/14_IPHONE-7_G.jpg',\n",
       " '../Dataset/gaussian_blurred/150_NIKON-D3400-18-55MM_G.jpg',\n",
       " '../Dataset/gaussian_blurred/151_NIKON-D3400-35MM_G.jpg',\n",
       " '../Dataset/gaussian_blurred/152_NIKON-D3400-18-55MM_G.jpg',\n",
       " '../Dataset/gaussian_blurred/153_NIKON-D3400-18-55MM_G.jpg',\n",
       " '../Dataset/gaussian_blurred/154_IPHONE-7_G.jpg',\n",
       " '../Dataset/gaussian_blurred/155_HONOR-10_G.jpg',\n",
       " '../Dataset/gaussian_blurred/156_HUAWEI-P30-LITE_G.jpg',\n",
       " '../Dataset/gaussian_blurred/157_NIKON-D3400-35MM_G.jpg',\n",
       " '../Dataset/gaussian_blurred/158_IPHONE-7_G.jpg',\n",
       " '../Dataset/gaussian_blurred/159_NIKON-D3400-35MM_G.jpg',\n",
       " '../Dataset/gaussian_blurred/15_HONOR-7C_G.jpg',\n",
       " '../Dataset/gaussian_blurred/160_HUAWEI-P20-LITE_G.jpg',\n",
       " '../Dataset/gaussian_blurred/161_XIAOMI-MI8-SE_G.jpg',\n",
       " '../Dataset/gaussian_blurred/162_IPHONE-6S_G.jpg',\n",
       " '../Dataset/gaussian_blurred/163_SAMSUNG-GALAXY-GRAND-PRIME-PLUS_G.jpg',\n",
       " '../Dataset/gaussian_blurred/164_XIAOMI-MI8-SE_G.jpg',\n",
       " '../Dataset/gaussian_blurred/165_SAMSUNG-GALAXY-J3_G.jpg',\n",
       " '../Dataset/gaussian_blurred/166_XIAOMI-MI8-SE_G.jpg',\n",
       " '../Dataset/gaussian_blurred/167_HONOR-7X_G.jpg',\n",
       " '../Dataset/gaussian_blurred/168_CANON-6D-100MM_G.jpg',\n",
       " '../Dataset/gaussian_blurred/169_HONOR-7X_G.jpg',\n",
       " '../Dataset/gaussian_blurred/16_IPHONE-7_G.jpg',\n",
       " '../Dataset/gaussian_blurred/170_IPHONE-8_G.jpg',\n",
       " '../Dataset/gaussian_blurred/171_HUAWEI-P20-LITE_G.jpg',\n",
       " '../Dataset/gaussian_blurred/172_IPHONE-SE_G.jpg',\n",
       " '../Dataset/gaussian_blurred/173_IPHONE-SE_G.jpg',\n",
       " '../Dataset/gaussian_blurred/174_HUAWEI-P20_G.jpg',\n",
       " '../Dataset/gaussian_blurred/175_IPHONE-SE_G.jpg',\n",
       " '../Dataset/gaussian_blurred/176_HONOR-7X_G.jpg',\n",
       " '../Dataset/gaussian_blurred/177_HONOR-7X_G.jpg',\n",
       " '../Dataset/gaussian_blurred/178_HONOR-7X_G.jpg',\n",
       " '../Dataset/gaussian_blurred/179_CANON-6D-100MM_G.jpg',\n",
       " '../Dataset/gaussian_blurred/17_HUAWEI-MATE20_G.jpg',\n",
       " '../Dataset/gaussian_blurred/180_HONOR-10_G.jpg',\n",
       " '../Dataset/gaussian_blurred/181_HONOR-10_G.jpg',\n",
       " '../Dataset/gaussian_blurred/182_HONOR-10_G.jpg',\n",
       " '../Dataset/gaussian_blurred/183_XIAOMI-REDMI-7_G.jpg',\n",
       " '../Dataset/gaussian_blurred/184_HONOR-10_G.jpg',\n",
       " '../Dataset/gaussian_blurred/185_HONOR-6X_G.jpg',\n",
       " '../Dataset/gaussian_blurred/186_HONOR-8_G.jpg',\n",
       " '../Dataset/gaussian_blurred/187_XIAOMI-REDMI-4A_G.jpg',\n",
       " '../Dataset/gaussian_blurred/188_NIKON-D3400-18-55MM_G.jpg',\n",
       " '../Dataset/gaussian_blurred/189_HONOR-7X_G.jpg',\n",
       " '../Dataset/gaussian_blurred/18_XIAOMI-REDMI-5-PLUS_G.jpg',\n",
       " '../Dataset/gaussian_blurred/190_NIKON-D3400-18-55MM_G.jpg',\n",
       " '../Dataset/gaussian_blurred/191_NIKON-D3400-18-55MM_G.jpg',\n",
       " '../Dataset/gaussian_blurred/192_XIAOMI-MI8-SE_G.jpg',\n",
       " '../Dataset/gaussian_blurred/193_IPHONE-7_G.jpg',\n",
       " '../Dataset/gaussian_blurred/194_IPHONE-SE_G.jpg',\n",
       " '../Dataset/gaussian_blurred/195_IPHONE-7_G.jpg',\n",
       " '../Dataset/gaussian_blurred/196_IPHONE-SE_G.jpg',\n",
       " '../Dataset/gaussian_blurred/197_HUAWEI-P20-LITE_G.jpg',\n",
       " '../Dataset/gaussian_blurred/198_HUAWEI-P20-LITE_G.jpg',\n",
       " '../Dataset/gaussian_blurred/199_CANON-6D-100MM_G.jpg',\n",
       " '../Dataset/gaussian_blurred/19_IPHONE-7-PLUS_G.jpg',\n",
       " '../Dataset/gaussian_blurred/1_XIAOMI-PROCOFONE-F1_G.jpg',\n",
       " '../Dataset/gaussian_blurred/200_HUAWEI-MATE20_G.jpg',\n",
       " '../Dataset/gaussian_blurred/201_IPHONE-SE_G.jpg',\n",
       " '../Dataset/gaussian_blurred/202_HUAWEI-P20-LITE_G.jpg',\n",
       " '../Dataset/gaussian_blurred/203_IPHONE-SE_G.jpg',\n",
       " '../Dataset/gaussian_blurred/204_XIAOMI-MI8-SE_G.jpg',\n",
       " '../Dataset/gaussian_blurred/205_HUAWEI-P20-LITE_G.jpg',\n",
       " '../Dataset/gaussian_blurred/206_IPHONE-7_G.jpg',\n",
       " '../Dataset/gaussian_blurred/207_SAMSUNG-GALAXY-J7_G.jpg',\n",
       " '../Dataset/gaussian_blurred/208_SAMSUNG-GALAXY-A5_G.jpg',\n",
       " '../Dataset/gaussian_blurred/209_SAMSUNG-GALAXY-A8_G.jpg',\n",
       " '../Dataset/gaussian_blurred/20_XIAOMI-REDMI-3S_G.jpg',\n",
       " '../Dataset/gaussian_blurred/210_CANON-6D-70-200MM_G.jpg',\n",
       " '../Dataset/gaussian_blurred/211_SAMSUNG-GALAXY-7-NEO_G.jpg',\n",
       " '../Dataset/gaussian_blurred/212_IPHONE-SE_G.jpg',\n",
       " '../Dataset/gaussian_blurred/213_ONEPLUS-3T_G.jpg',\n",
       " '../Dataset/gaussian_blurred/214_IPHONE-SE_G.jpg',\n",
       " '../Dataset/gaussian_blurred/215_LG-Q6_G.jpg',\n",
       " '../Dataset/gaussian_blurred/216_ASUS-ZENFONE-LIVE-ZB501KL_G.jpg',\n",
       " '../Dataset/gaussian_blurred/217_IPHONE-SE_G.jpg',\n",
       " '../Dataset/gaussian_blurred/218_IPHONE-SE_G.jpg',\n",
       " '../Dataset/gaussian_blurred/219_IPHONE-6S_G.jpg',\n",
       " '../Dataset/gaussian_blurred/21_HUAWEI-Y9_G.jpg',\n",
       " '../Dataset/gaussian_blurred/220_IPHONE-6_G.jpg',\n",
       " '../Dataset/gaussian_blurred/221_IPHONE-SE_G.jpg',\n",
       " '../Dataset/gaussian_blurred/222_IPHONE-SE_G.jpg',\n",
       " '../Dataset/gaussian_blurred/223_HONOR-4C_G.jpg',\n",
       " '../Dataset/gaussian_blurred/224_ONEPLUS-3T_G.jpg',\n",
       " '../Dataset/gaussian_blurred/225_HONOR-7C_G.jpg',\n",
       " '../Dataset/gaussian_blurred/226_IPHONE-7-PLUS_G.jpg',\n",
       " '../Dataset/gaussian_blurred/227_SAMSUNG-GALAXY-A3_G.jpg',\n",
       " '../Dataset/gaussian_blurred/228_ASUS-ZENFONE-LIVE-ZB501KL_G.jpg',\n",
       " '../Dataset/gaussian_blurred/229_WILEYFOX-SWIFT-2-PLUS_G.jpg',\n",
       " '../Dataset/gaussian_blurred/22_HUAWEI-Y9_G.jpg',\n",
       " '../Dataset/gaussian_blurred/230_NOKIA-21_G.jpg',\n",
       " '../Dataset/gaussian_blurred/231_IPHONE-7-PLUS_G.jpg',\n",
       " '../Dataset/gaussian_blurred/232_SAMSUNG-EDGE-7C_G.jpg',\n",
       " '../Dataset/gaussian_blurred/233_XIAOMI-REDMI-4_G.jpg',\n",
       " '../Dataset/gaussian_blurred/234_XIAOMI-REDMI-NOTE-5A-PRIME_G.jpg',\n",
       " '../Dataset/gaussian_blurred/235_IPHONE-SE_G.jpg',\n",
       " '../Dataset/gaussian_blurred/236_IPHONE-SE_G.jpg',\n",
       " '../Dataset/gaussian_blurred/237_SAMSUNG-GALAXY-J5_G.jpg',\n",
       " '../Dataset/gaussian_blurred/238_HONOR-7X_G.jpg',\n",
       " '../Dataset/gaussian_blurred/239_IPHONE-6S_G.jpg',\n",
       " '../Dataset/gaussian_blurred/23_HUAWEI-P20_G.jpg',\n",
       " '../Dataset/gaussian_blurred/240_HONOR-7X_G.jpg',\n",
       " '../Dataset/gaussian_blurred/241_HONOR-7X_G.jpg',\n",
       " '../Dataset/gaussian_blurred/242_IPHONE-6S_G.jpg',\n",
       " '../Dataset/gaussian_blurred/243_HONOR-7X_G.jpg',\n",
       " '../Dataset/gaussian_blurred/244_HONOR-7X_G.jpg',\n",
       " '../Dataset/gaussian_blurred/245_HONOR-7X_G.jpg',\n",
       " '../Dataset/gaussian_blurred/246_HONOR-9_G.jpg',\n",
       " '../Dataset/gaussian_blurred/247_HONOR-7X_G.jpg',\n",
       " '../Dataset/gaussian_blurred/248_IPHONE-7_G.jpg',\n",
       " '../Dataset/gaussian_blurred/249_IPHONE-SE_G.jpg',\n",
       " '../Dataset/gaussian_blurred/24_HUAWEI-Y9_G.jpg',\n",
       " '../Dataset/gaussian_blurred/250_IPHONE-SE_G.jpg',\n",
       " '../Dataset/gaussian_blurred/251_IPHONE-6S_G.jpg',\n",
       " '../Dataset/gaussian_blurred/252_HUAWEI-P30_G.jpg',\n",
       " '../Dataset/gaussian_blurred/253_XIAOMI-REDMI-NOTE-7_G.jpg',\n",
       " '../Dataset/gaussian_blurred/254_XIAOMI-REDMI-7_G.jpg',\n",
       " '../Dataset/gaussian_blurred/255_XIAOMI-REDMI-7_G.jpg',\n",
       " '../Dataset/gaussian_blurred/256_SAMSUNG-GALAXY-GRAND-PRIME_G.jpg',\n",
       " '../Dataset/gaussian_blurred/257_HONOR-9_G.jpg',\n",
       " '../Dataset/gaussian_blurred/258_HONOR-10_G.jpg',\n",
       " '../Dataset/gaussian_blurred/259_XIAOMI-REDMI-7_G.jpg',\n",
       " '../Dataset/gaussian_blurred/25_HUAWEI-Y9_G.jpg',\n",
       " '../Dataset/gaussian_blurred/260_HUAWEI-NOVA-LITE_G.jpg',\n",
       " '../Dataset/gaussian_blurred/261_HONOR-10_G.jpg',\n",
       " '../Dataset/gaussian_blurred/262_IPHONE-SE_G.jpg',\n",
       " '../Dataset/gaussian_blurred/263_XIAOMI-REDMI-3S_G.jpg',\n",
       " '../Dataset/gaussian_blurred/264_IPHONE-7_G.jpg',\n",
       " '../Dataset/gaussian_blurred/265_HONOR-9-LITE_G.jpg',\n",
       " '../Dataset/gaussian_blurred/266_SONY-NEX-5T_G.jpg',\n",
       " '../Dataset/gaussian_blurred/267_SONY-NEX-5T_G.jpg',\n",
       " '../Dataset/gaussian_blurred/268_NIKON-D3400-18-55MM_G.jpg',\n",
       " '../Dataset/gaussian_blurred/269_NIKON-D3400-18-55MM_G.jpg',\n",
       " '../Dataset/gaussian_blurred/26_HONOR-8X_G.jpg',\n",
       " '../Dataset/gaussian_blurred/270_NIKON-D3400-18-55MM_G.jpg',\n",
       " '../Dataset/gaussian_blurred/271_NIKON-D3400-18-55MM_G.jpg',\n",
       " '../Dataset/gaussian_blurred/272_NIKON-D3400-18-55MM_G.jpg',\n",
       " '../Dataset/gaussian_blurred/273_NIKON-D3400-18-55MM_G.jpg',\n",
       " '../Dataset/gaussian_blurred/274_NIKON-D3400-18-55MM_G.jpg',\n",
       " '../Dataset/gaussian_blurred/275_NIKON-D3400-18-55MM_G.jpg',\n",
       " '../Dataset/gaussian_blurred/276_NIKON-D3400-18-55MM_G.jpg',\n",
       " '../Dataset/gaussian_blurred/277_NIKON-D3400-18-55MM_G.jpg',\n",
       " '../Dataset/gaussian_blurred/278_HONOR-7X_G.jpg',\n",
       " '../Dataset/gaussian_blurred/279_NIKON-D3400-18-55MM_G.jpg',\n",
       " '../Dataset/gaussian_blurred/27_HONOR-8X_G.jpg',\n",
       " '../Dataset/gaussian_blurred/280_NIKON-D3400-18-55MM_G.jpg',\n",
       " '../Dataset/gaussian_blurred/281_NIKON-D3400-18-55MM_G.jpg',\n",
       " '../Dataset/gaussian_blurred/282_SONY-NEX-5T_G.jpg',\n",
       " '../Dataset/gaussian_blurred/283_HONOR-10_G.jpg',\n",
       " '../Dataset/gaussian_blurred/284_SONY-NEX-5T_G.jpg',\n",
       " '../Dataset/gaussian_blurred/285_SONY-NEX-5T_G.jpg',\n",
       " '../Dataset/gaussian_blurred/286_SONY-NEX-5T_G.jpg',\n",
       " '../Dataset/gaussian_blurred/287_WILEYFOX-SWIFT-2-PLUS_G.jpg',\n",
       " '../Dataset/gaussian_blurred/288_XIAOMI-REDMI-NOTE-7_G.jpg',\n",
       " '../Dataset/gaussian_blurred/289_WILEYFOX-SWIFT-2-PLUS_G.jpg',\n",
       " '../Dataset/gaussian_blurred/28_HONOR-8X_G.jpg',\n",
       " '../Dataset/gaussian_blurred/290_IPHONE-SE_G.jpg',\n",
       " '../Dataset/gaussian_blurred/291_IPHONE-SE_G.jpg',\n",
       " '../Dataset/gaussian_blurred/292_NIKON-D3400-35MM_G.jpg',\n",
       " '../Dataset/gaussian_blurred/293_NIKON-D3400-35MM_G.jpg',\n",
       " '../Dataset/gaussian_blurred/294_PRESTIGIO-MULTI-PHONE_G.jpg',\n",
       " '../Dataset/gaussian_blurred/295_HONOR-7X_G.jpg',\n",
       " '../Dataset/gaussian_blurred/296_NIKON-D3400-35MM_G.jpg',\n",
       " '../Dataset/gaussian_blurred/297_NIKON-D3400-35MM_G.jpg',\n",
       " '../Dataset/gaussian_blurred/298_NIKON-D3400-35MM_G.jpg',\n",
       " '../Dataset/gaussian_blurred/299_NIKON-D3400-35MM_G.jpg',\n",
       " '../Dataset/gaussian_blurred/29_HONOR-7X_G.jpg',\n",
       " '../Dataset/gaussian_blurred/2_XIAOMI-PROCOFONE-F1_G.jpg',\n",
       " '../Dataset/gaussian_blurred/300_XIAOMI-REDMI-NOTE-7_G.jpg',\n",
       " '../Dataset/gaussian_blurred/301_NIKON-D3400-35MM_G.jpg',\n",
       " '../Dataset/gaussian_blurred/302_IPHONE-SE_G.jpg',\n",
       " '../Dataset/gaussian_blurred/303_SAMSUNG-GALAXY-A8_G.jpg',\n",
       " '../Dataset/gaussian_blurred/304_SAMSUNG-GALAXY-J7_G.jpg',\n",
       " '../Dataset/gaussian_blurred/305_HONOR-9_G.jpg',\n",
       " '../Dataset/gaussian_blurred/306_XIAOMI-REDMI-5-PLUS_G.jpg',\n",
       " '../Dataset/gaussian_blurred/307_HONOR-7X_G.jpg',\n",
       " '../Dataset/gaussian_blurred/308_IPHONE-6S_G.jpg',\n",
       " '../Dataset/gaussian_blurred/309_SAMSUNG-GALAXY-A8_G.jpg',\n",
       " '../Dataset/gaussian_blurred/30_HONOR-8X_G.jpg',\n",
       " '../Dataset/gaussian_blurred/310_XIAOMI-PROCOFONE-F1_G.jpg',\n",
       " '../Dataset/gaussian_blurred/311_HONOR-6X_G.jpg',\n",
       " '../Dataset/gaussian_blurred/312_ASUS-ZENFONE-LIVE-ZB501KL_G.jpg',\n",
       " '../Dataset/gaussian_blurred/313_XIAOMI-PROCOFONE-F1_G.jpg',\n",
       " '../Dataset/gaussian_blurred/314_IPHONE-5S_G.jpg',\n",
       " '../Dataset/gaussian_blurred/315_HUAWEI-NOVA-LITE_G.jpg',\n",
       " '../Dataset/gaussian_blurred/316_IPHONE-7_G.jpg',\n",
       " '../Dataset/gaussian_blurred/317_IPHONE-8-PLUS_G.jpg',\n",
       " '../Dataset/gaussian_blurred/318_HONOR-7C_G.jpg',\n",
       " '../Dataset/gaussian_blurred/319_XIAOMI-REDMI-NOTE-4X_G.jpg',\n",
       " '../Dataset/gaussian_blurred/31_IPHONE-SE_G.jpg',\n",
       " '../Dataset/gaussian_blurred/320_HONOR-7X_G.jpg',\n",
       " '../Dataset/gaussian_blurred/321_XIAOMI-PROCOFONE-F1_G.jpg',\n",
       " '../Dataset/gaussian_blurred/322_HONOR-7C_G.jpg',\n",
       " '../Dataset/gaussian_blurred/323_XIAOMI-PROCOFONE-F1_G.jpg',\n",
       " '../Dataset/gaussian_blurred/324_ASUS-ZENFONE-LIVE-ZB501KL_G.jpg',\n",
       " '../Dataset/gaussian_blurred/325_SAMSUNG-GALAXY-J3_G.jpg',\n",
       " '../Dataset/gaussian_blurred/326_XIAOMI-PROCOFONE-F1_G.jpg',\n",
       " '../Dataset/gaussian_blurred/327_IPHONE-SE_G.jpg',\n",
       " '../Dataset/gaussian_blurred/328_SAMSUNG-GALAXY-J3_G.jpg',\n",
       " '../Dataset/gaussian_blurred/329_HONOR-7C_G.jpg',\n",
       " '../Dataset/gaussian_blurred/32_HUAWEI-P-SMART_G.jpg',\n",
       " '../Dataset/gaussian_blurred/330_XIAOMI-PROCOFONE-F1_G.jpg',\n",
       " '../Dataset/gaussian_blurred/331_XIAOMI-PROCOFONE-F1_G.jpg',\n",
       " '../Dataset/gaussian_blurred/332_XIAOMI-PROCOFONE-F1_G.jpg',\n",
       " '../Dataset/gaussian_blurred/333_HONOR-7X_G.jpg',\n",
       " '../Dataset/gaussian_blurred/334_XIAOMI-PROCOFONE-F1_G.jpg',\n",
       " '../Dataset/gaussian_blurred/335_XIAOMI-PROCOFONE-F1_G.jpg',\n",
       " '../Dataset/gaussian_blurred/336_ASUS-ZENFONE-LIVE-ZB501KL_G.jpg',\n",
       " '../Dataset/gaussian_blurred/337_XIAOMI-PROCOFONE-F1_G.jpg',\n",
       " '../Dataset/gaussian_blurred/338_IPHONE-SE_G.jpg',\n",
       " '../Dataset/gaussian_blurred/339_XIAOMI-REDMI-4X_G.jpg',\n",
       " '../Dataset/gaussian_blurred/33_HONOR-8X_G.jpg',\n",
       " '../Dataset/gaussian_blurred/340_XIAOMI-PROCOFONE-F1_G.jpg',\n",
       " '../Dataset/gaussian_blurred/341_XIAOMI-PROCOFONE-F1_G.jpg',\n",
       " '../Dataset/gaussian_blurred/342_XIAOMI-PROCOFONE-F1_G.jpg',\n",
       " '../Dataset/gaussian_blurred/343_XIAOMI-PROCOFONE-F1_G.jpg',\n",
       " '../Dataset/gaussian_blurred/344_XIAOMI-PROCOFONE-F1_G.jpg',\n",
       " '../Dataset/gaussian_blurred/345_XIAOMI-PROCOFONE-F1_G.jpg',\n",
       " '../Dataset/gaussian_blurred/346_HUAWEI-MATE20_G.jpg',\n",
       " '../Dataset/gaussian_blurred/347_XIAOMI-PROCOFONE-F1_G.jpg',\n",
       " '../Dataset/gaussian_blurred/348_IPHONE-8_G.jpg',\n",
       " '../Dataset/gaussian_blurred/349_IPHONE-SE_G.jpg',\n",
       " '../Dataset/gaussian_blurred/34_HONOR-8X_G.jpg',\n",
       " '../Dataset/gaussian_blurred/35_IPHONE-6S_G.jpg',\n",
       " '../Dataset/gaussian_blurred/36_HONOR-8X_G.jpg',\n",
       " '../Dataset/gaussian_blurred/37_HONOR-8X_G.jpg',\n",
       " '../Dataset/gaussian_blurred/38_HONOR-8X_G.jpg',\n",
       " '../Dataset/gaussian_blurred/39_XIAOMI-MI8-LITE_G.jpg',\n",
       " '../Dataset/gaussian_blurred/3_HUAWEI-NOVA-LITE_G.jpg',\n",
       " '../Dataset/gaussian_blurred/40_IPHONE-6S_G.jpg',\n",
       " '../Dataset/gaussian_blurred/41_XIAOMI-PROCOFONE-F1_G.jpg',\n",
       " '../Dataset/gaussian_blurred/42_NIKON-D3400-35MM_G.jpg',\n",
       " '../Dataset/gaussian_blurred/43_HONOR-8X_G.jpg',\n",
       " '../Dataset/gaussian_blurred/44_SONY-XPERIA-E5_G.jpg',\n",
       " '../Dataset/gaussian_blurred/45_HONOR-7X_G.jpg',\n",
       " '../Dataset/gaussian_blurred/46_IPHONE-8-PLUS_G.jpg',\n",
       " '../Dataset/gaussian_blurred/47_XIAOMI-REDMI-7_G.jpg',\n",
       " '../Dataset/gaussian_blurred/48_HONOR-8X_G.jpg',\n",
       " '../Dataset/gaussian_blurred/49_HONOR-8X_G.jpg',\n",
       " '../Dataset/gaussian_blurred/4_XIAOMI-PROCOFONE-F1_G.jpg',\n",
       " '../Dataset/gaussian_blurred/50_HONOR-8X_G.jpg',\n",
       " '../Dataset/gaussian_blurred/51_IPHONE-SE_G.jpg',\n",
       " '../Dataset/gaussian_blurred/52_HONOR-8X_G.jpg',\n",
       " '../Dataset/gaussian_blurred/53_NIKON-D3400-35MM_G.jpg',\n",
       " '../Dataset/gaussian_blurred/54_HONOR-8X_G.jpg',\n",
       " '../Dataset/gaussian_blurred/55_HONOR-8X_G.jpg',\n",
       " '../Dataset/gaussian_blurred/56_HONOR-8X_G.jpg',\n",
       " '../Dataset/gaussian_blurred/57_IPHONE-SE_G.jpg',\n",
       " '../Dataset/gaussian_blurred/58_IPHONE-6S_G.jpg',\n",
       " '../Dataset/gaussian_blurred/59_IPHONE-6S_G.jpg',\n",
       " '../Dataset/gaussian_blurred/5_XIAOMI-PROCOFONE-F1_G.jpg',\n",
       " '../Dataset/gaussian_blurred/60_IPHONE-8-PLUS_G.jpg',\n",
       " '../Dataset/gaussian_blurred/61_XIAOMI-REDMI-7_G.jpg',\n",
       " '../Dataset/gaussian_blurred/62_HONOR-8X_G.jpg',\n",
       " '../Dataset/gaussian_blurred/63_HUAWEI-P20_G.jpg',\n",
       " '../Dataset/gaussian_blurred/64_SAMSUNG-GALAXY-S5_G.jpg',\n",
       " '../Dataset/gaussian_blurred/65_NIKON-D3400-35MM_G.jpg',\n",
       " '../Dataset/gaussian_blurred/66_HONOR-8X_G.jpg',\n",
       " '../Dataset/gaussian_blurred/67_HONOR-8X_G.jpg',\n",
       " '../Dataset/gaussian_blurred/68_HONOR-8X_G.jpg',\n",
       " '../Dataset/gaussian_blurred/69_SAMSUNG-GALAXY-J3_G.jpg',\n",
       " '../Dataset/gaussian_blurred/6_HUAWEI-MATE20_G.jpg',\n",
       " '../Dataset/gaussian_blurred/70_HONOR-8X_G.jpg',\n",
       " '../Dataset/gaussian_blurred/71_SAMSUNG-GALAXY-A6_G.jpg',\n",
       " '../Dataset/gaussian_blurred/72_IPHONE-8_G.jpg',\n",
       " '../Dataset/gaussian_blurred/73_PANASONIC-DMC-TZ35_G.jpg',\n",
       " '../Dataset/gaussian_blurred/74_HONOR-8X_G.jpg',\n",
       " '../Dataset/gaussian_blurred/75_HONOR-8X_G.jpg',\n",
       " '../Dataset/gaussian_blurred/76_HONOR-8X_G.jpg',\n",
       " '../Dataset/gaussian_blurred/77_HONOR-7C_G.jpg',\n",
       " '../Dataset/gaussian_blurred/78_NIKON-D3400-35MM_G.jpg',\n",
       " '../Dataset/gaussian_blurred/79_HUAWEI-P30-PRO_G.jpg',\n",
       " '../Dataset/gaussian_blurred/7_NIKON-D3400-35MM_G.jpg',\n",
       " '../Dataset/gaussian_blurred/80_HUAWEI-P30-PRO_G.jpg',\n",
       " '../Dataset/gaussian_blurred/81_SAMSUNG-GALAXY-J3_G.jpg',\n",
       " '../Dataset/gaussian_blurred/82_HONOR-8X_G.jpg',\n",
       " '../Dataset/gaussian_blurred/83_HONOR-8X_G.jpg',\n",
       " '../Dataset/gaussian_blurred/84_IPHONE-XR_G.jpg',\n",
       " '../Dataset/gaussian_blurred/85_HONOR-8X_G.jpg',\n",
       " '../Dataset/gaussian_blurred/86_HONOR-8X_G.jpg',\n",
       " '../Dataset/gaussian_blurred/87_IPHONE-8-PLUS_G.jpg',\n",
       " '../Dataset/gaussian_blurred/88_HONOR-8X_G.jpg',\n",
       " '../Dataset/gaussian_blurred/89_IPHONE-6S_G.jpg',\n",
       " '../Dataset/gaussian_blurred/8_SAMSUNG-GALAXY-A6_G.jpg',\n",
       " '../Dataset/gaussian_blurred/90_HONOR-7X_G.jpg',\n",
       " '../Dataset/gaussian_blurred/91_HONOR-7X_G.jpg',\n",
       " '../Dataset/gaussian_blurred/92_IPHONE-7_G.jpg',\n",
       " '../Dataset/gaussian_blurred/93_HONOR-7X_G.jpg',\n",
       " '../Dataset/gaussian_blurred/94_HONOR-7X_G.jpg',\n",
       " '../Dataset/gaussian_blurred/95_HONOR-7X_G.jpg',\n",
       " '../Dataset/gaussian_blurred/96_HONOR-7X_G.jpg',\n",
       " '../Dataset/gaussian_blurred/97_HONOR-7X_G.jpg',\n",
       " '../Dataset/gaussian_blurred/98_HONOR-7X_G.jpg',\n",
       " '../Dataset/gaussian_blurred/99_HONOR-7X_G.jpg',\n",
       " '../Dataset/gaussian_blurred/9_HUAWEI-P20_G.jpg']"
      ]
     },
     "execution_count": 15,
     "metadata": {},
     "output_type": "execute_result"
    }
   ],
   "source": [
    "X"
   ]
  },
  {
   "cell_type": "code",
   "execution_count": 16,
   "metadata": {},
   "outputs": [
    {
     "data": {
      "text/plain": [
       "['../Dataset/sharp/0_IPHONE-SE_S.JPG',\n",
       " '../Dataset/sharp/100_NIKON-D3400-35MM_S.JPG',\n",
       " '../Dataset/sharp/101_NIKON-D3400-35MM_S.JPG',\n",
       " '../Dataset/sharp/102_NIKON-D3400-35MM_S.JPG',\n",
       " '../Dataset/sharp/103_HUAWEI-P20_S.jpg',\n",
       " '../Dataset/sharp/104_IPHONE-SE_S.jpg',\n",
       " '../Dataset/sharp/105_IPHONE-SE_S.jpg',\n",
       " '../Dataset/sharp/106_NIKON-D3400-35MM_S.JPG',\n",
       " '../Dataset/sharp/107_XIAOMI-MI8-SE_S.jpg',\n",
       " '../Dataset/sharp/108_XIAOMI-MI8-SE_S.jpg',\n",
       " '../Dataset/sharp/109_HONOR-7X_S.jpg',\n",
       " '../Dataset/sharp/10_ASUS-ZENFONE-LIVE-ZB501KL_S.jpg',\n",
       " '../Dataset/sharp/110_IPHONE-7_S.jpeg',\n",
       " '../Dataset/sharp/111_IPHONE-7_S.jpeg',\n",
       " '../Dataset/sharp/112_NIKON-D3400-35MM_S.JPG',\n",
       " '../Dataset/sharp/113_SAMSUNG-GALAXY-A5_S.jpg',\n",
       " '../Dataset/sharp/114_ASUS-ZE500KL_S.jpg',\n",
       " '../Dataset/sharp/115_NIKON-D3400-35MM_S.JPG',\n",
       " '../Dataset/sharp/116_BQ-5512L_S.jpg',\n",
       " '../Dataset/sharp/117_HONOR-7X_S.jpg',\n",
       " '../Dataset/sharp/118_HONOR-7X_S.jpg',\n",
       " '../Dataset/sharp/119_HONOR-7X_S.jpg',\n",
       " '../Dataset/sharp/11_XIAOMI-MI8-SE_S.jpg',\n",
       " '../Dataset/sharp/120_HONOR-7X_S.jpg',\n",
       " '../Dataset/sharp/121_HONOR-7X_S.jpg',\n",
       " '../Dataset/sharp/122_HONOR-7X_S.jpg',\n",
       " '../Dataset/sharp/123_NIKON-D3400-35MM_S.JPG',\n",
       " '../Dataset/sharp/124_HONOR-7X_S.jpg',\n",
       " '../Dataset/sharp/125_NIKON-D3400-35MM_S.JPG',\n",
       " '../Dataset/sharp/126_NIKON-D3400-18-55MM_S.JPG',\n",
       " '../Dataset/sharp/127_IPHONE-8_S.jpeg',\n",
       " '../Dataset/sharp/128_XIAOMI-MI8-SE_S.jpg',\n",
       " '../Dataset/sharp/129_NIKON-D3400-18-55MM_S.JPG',\n",
       " '../Dataset/sharp/12_SAMSUNG-GALAXY-J5_S.jpg',\n",
       " '../Dataset/sharp/130_NIKON-D3400-18-55MM_S.JPG',\n",
       " '../Dataset/sharp/131_NIKON-D3400-18-55MM_S.JPG',\n",
       " '../Dataset/sharp/132_NIKON-D3400-18-55MM_S.JPG',\n",
       " '../Dataset/sharp/133_NIKON-D3400-18-55MM_S.JPG',\n",
       " '../Dataset/sharp/134_NIKON-D3400-18-55MM_S.JPG',\n",
       " '../Dataset/sharp/135_NIKON-D3400-18-55MM_S.JPG',\n",
       " '../Dataset/sharp/136_XIAOMI-REDMI-3S_S.jpg',\n",
       " '../Dataset/sharp/137_NIKON-D3400-18-55MM_S.JPG',\n",
       " '../Dataset/sharp/138_NIKON-D3400-35MM_S.JPG',\n",
       " '../Dataset/sharp/139_NIKON-D3400-18-55MM_S.JPG',\n",
       " '../Dataset/sharp/13_IPHONE-8-PLUS_S.jpg',\n",
       " '../Dataset/sharp/140_SAMSUNG-GALAXY-J5_S.jpg',\n",
       " '../Dataset/sharp/141_NIKON-D3400-18-55MM_S.JPG',\n",
       " '../Dataset/sharp/142_NIKON-D3400-18-55MM_S.JPG',\n",
       " '../Dataset/sharp/143_NIKON-D3400-18-55MM_S.JPG',\n",
       " '../Dataset/sharp/144_NIKON-D3400-18-55MM_S.JPG',\n",
       " '../Dataset/sharp/145_NIKON-D3400-18-55MM_S.JPG',\n",
       " '../Dataset/sharp/146_NIKON-D3400-18-55MM_S.JPG',\n",
       " '../Dataset/sharp/147_NIKON-D3400-35MM_S.JPG',\n",
       " '../Dataset/sharp/148_NIKON-D3400-18-55MM_S.JPG',\n",
       " '../Dataset/sharp/149_NIKON-D3400-18-55MM_S.JPG',\n",
       " '../Dataset/sharp/14_IPHONE-7_S.jpeg',\n",
       " '../Dataset/sharp/150_NIKON-D3400-18-55MM_S.JPG',\n",
       " '../Dataset/sharp/151_NIKON-D3400-35MM_S.JPG',\n",
       " '../Dataset/sharp/152_NIKON-D3400-18-55MM_S.JPG',\n",
       " '../Dataset/sharp/153_NIKON-D3400-18-55MM_S.JPG',\n",
       " '../Dataset/sharp/154_IPHONE-7_S.jpeg',\n",
       " '../Dataset/sharp/155_HONOR-10_S.jpg',\n",
       " '../Dataset/sharp/156_HUAWEI-P30-LITE_S.jpg',\n",
       " '../Dataset/sharp/157_NIKON-D3400-35MM_S.JPG',\n",
       " '../Dataset/sharp/158_IPHONE-7_S.jpeg',\n",
       " '../Dataset/sharp/159_NIKON-D3400-35MM_S.JPG',\n",
       " '../Dataset/sharp/15_HONOR-7C_S.jpg',\n",
       " '../Dataset/sharp/160_HUAWEI-P20-LITE_S.jpg',\n",
       " '../Dataset/sharp/161_XIAOMI-MI8-SE_S.jpg',\n",
       " '../Dataset/sharp/162_IPHONE-6S_S.jpg',\n",
       " '../Dataset/sharp/163_SAMSUNG-GALAXY-GRAND-PRIME-PLUS_S.jpg',\n",
       " '../Dataset/sharp/164_XIAOMI-MI8-SE_S.jpg',\n",
       " '../Dataset/sharp/165_SAMSUNG-GALAXY-J3_S.jpg',\n",
       " '../Dataset/sharp/166_XIAOMI-MI8-SE_S.jpg',\n",
       " '../Dataset/sharp/167_HONOR-7X_S.jpg',\n",
       " '../Dataset/sharp/168_CANON-6D-100MM_S.JPG',\n",
       " '../Dataset/sharp/169_HONOR-7X_S.jpg',\n",
       " '../Dataset/sharp/16_IPHONE-7_S.jpeg',\n",
       " '../Dataset/sharp/170_IPHONE-8_S.JPG',\n",
       " '../Dataset/sharp/171_HUAWEI-P20-LITE_S.jpg',\n",
       " '../Dataset/sharp/172_IPHONE-SE_S.jpg',\n",
       " '../Dataset/sharp/173_IPHONE-SE_S.jpg',\n",
       " '../Dataset/sharp/174_HUAWEI-P20_S.jpg',\n",
       " '../Dataset/sharp/175_IPHONE-SE_S.jpg',\n",
       " '../Dataset/sharp/176_HONOR-7X_S.jpg',\n",
       " '../Dataset/sharp/177_HONOR-7X_S.jpg',\n",
       " '../Dataset/sharp/178_HONOR-7X_S.jpg',\n",
       " '../Dataset/sharp/179_CANON-6D-100MM_S.JPG',\n",
       " '../Dataset/sharp/17_HUAWEI-MATE20_S.jpg',\n",
       " '../Dataset/sharp/180_HONOR-10_S.jpg',\n",
       " '../Dataset/sharp/181_HONOR-10_S.jpg',\n",
       " '../Dataset/sharp/182_HONOR-10_S.jpg',\n",
       " '../Dataset/sharp/183_XIAOMI-REDMI-7_S.jpg',\n",
       " '../Dataset/sharp/184_HONOR-10_S.jpg',\n",
       " '../Dataset/sharp/185_HONOR-6X_S.jpg',\n",
       " '../Dataset/sharp/186_HONOR-8_S.jpg',\n",
       " '../Dataset/sharp/187_XIAOMI-REDMI-4A_S.jpg',\n",
       " '../Dataset/sharp/188_NIKON-D3400-18-55MM_S.JPG',\n",
       " '../Dataset/sharp/189_HONOR-7X_S.jpg',\n",
       " '../Dataset/sharp/18_XIAOMI-REDMI-5-PLUS_S.jpg',\n",
       " '../Dataset/sharp/190_NIKON-D3400-18-55MM_S.JPG',\n",
       " '../Dataset/sharp/191_NIKON-D3400-18-55MM_S.JPG',\n",
       " '../Dataset/sharp/192_XIAOMI-MI8-SE_S.jpg',\n",
       " '../Dataset/sharp/193_IPHONE-7_S.jpeg',\n",
       " '../Dataset/sharp/194_IPHONE-SE_S.jpg',\n",
       " '../Dataset/sharp/195_IPHONE-7_S.jpeg',\n",
       " '../Dataset/sharp/196_IPHONE-SE_S.jpg',\n",
       " '../Dataset/sharp/197_HUAWEI-P20-LITE_S.jpg',\n",
       " '../Dataset/sharp/198_HUAWEI-P20-LITE_S.jpg',\n",
       " '../Dataset/sharp/199_CANON-6D-100MM_S.JPG',\n",
       " '../Dataset/sharp/19_IPHONE-7-PLUS_S.jpeg',\n",
       " '../Dataset/sharp/1_XIAOMI-PROCOFONE-F1_S.jpg',\n",
       " '../Dataset/sharp/200_HUAWEI-MATE20_S.jpg',\n",
       " '../Dataset/sharp/201_IPHONE-SE_S.jpg',\n",
       " '../Dataset/sharp/202_HUAWEI-P20-LITE_S.jpg',\n",
       " '../Dataset/sharp/203_IPHONE-SE_S.jpg',\n",
       " '../Dataset/sharp/204_XIAOMI-MI8-SE_S.jpg',\n",
       " '../Dataset/sharp/205_HUAWEI-P20-LITE_S.jpg',\n",
       " '../Dataset/sharp/206_IPHONE-7_S.jpg',\n",
       " '../Dataset/sharp/207_SAMSUNG-GALAXY-J7_S.jpg',\n",
       " '../Dataset/sharp/208_SAMSUNG-GALAXY-A5_S.jpg',\n",
       " '../Dataset/sharp/209_SAMSUNG-GALAXY-A8_S.jpg',\n",
       " '../Dataset/sharp/20_XIAOMI-REDMI-3S_S.jpg',\n",
       " '../Dataset/sharp/210_CANON-6D-70-200MM_S.JPG',\n",
       " '../Dataset/sharp/211_SAMSUNG-GALAXY-7-NEO_S.jpg',\n",
       " '../Dataset/sharp/212_IPHONE-SE_S.jpg',\n",
       " '../Dataset/sharp/213_ONEPLUS-3T_S.jpg',\n",
       " '../Dataset/sharp/214_IPHONE-SE_S.jpg',\n",
       " '../Dataset/sharp/215_LG-Q6_S.jpg',\n",
       " '../Dataset/sharp/216_ASUS-ZENFONE-LIVE-ZB501KL_S.jpg',\n",
       " '../Dataset/sharp/217_IPHONE-SE_S.jpg',\n",
       " '../Dataset/sharp/218_IPHONE-SE_S.jpg',\n",
       " '../Dataset/sharp/219_IPHONE-6S_S.jpg',\n",
       " '../Dataset/sharp/21_HUAWEI-Y9_S.jpg',\n",
       " '../Dataset/sharp/220_IPHONE-6_S.jpg',\n",
       " '../Dataset/sharp/221_IPHONE-SE_S.jpg',\n",
       " '../Dataset/sharp/222_IPHONE-SE_S.jpg',\n",
       " '../Dataset/sharp/223_HONOR-4C_S.jpg',\n",
       " '../Dataset/sharp/224_ONEPLUS-3T_S.jpg',\n",
       " '../Dataset/sharp/225_HONOR-7C_S.jpg',\n",
       " '../Dataset/sharp/226_IPHONE-7-PLUS_S.jpeg',\n",
       " '../Dataset/sharp/227_SAMSUNG-GALAXY-A3_S.jpg',\n",
       " '../Dataset/sharp/228_ASUS-ZENFONE-LIVE-ZB501KL_S.jpg',\n",
       " '../Dataset/sharp/229_WILEYFOX-SWIFT-2-PLUS_S.jpg',\n",
       " '../Dataset/sharp/22_HUAWEI-Y9_S.jpg',\n",
       " '../Dataset/sharp/230_NOKIA-21_S.jpg',\n",
       " '../Dataset/sharp/231_IPHONE-7-PLUS_S.jpg',\n",
       " '../Dataset/sharp/232_SAMSUNG-EDGE-7C_S.jpg',\n",
       " '../Dataset/sharp/233_XIAOMI-REDMI-4_S.jpg',\n",
       " '../Dataset/sharp/234_XIAOMI-REDMI-NOTE-5A-PRIME_S.jpg',\n",
       " '../Dataset/sharp/235_IPHONE-SE_S.jpg',\n",
       " '../Dataset/sharp/236_IPHONE-SE_S.jpg',\n",
       " '../Dataset/sharp/237_SAMSUNG-GALAXY-J5_S.jpg',\n",
       " '../Dataset/sharp/238_HONOR-7X_S.jpg',\n",
       " '../Dataset/sharp/239_IPHONE-6S_S.jpeg',\n",
       " '../Dataset/sharp/23_HUAWEI-P20_S.jpg',\n",
       " '../Dataset/sharp/240_HONOR-7X_S.jpg',\n",
       " '../Dataset/sharp/241_HONOR-7X_S.jpg',\n",
       " '../Dataset/sharp/242_IPHONE-6S_S.jpeg',\n",
       " '../Dataset/sharp/243_HONOR-7X_S.jpg',\n",
       " '../Dataset/sharp/244_HONOR-7X_S.jpg',\n",
       " '../Dataset/sharp/245_HONOR-7X_S.jpg',\n",
       " '../Dataset/sharp/246_HONOR-9_S.jpg',\n",
       " '../Dataset/sharp/247_HONOR-7X_S.jpg',\n",
       " '../Dataset/sharp/248_IPHONE-7_S.jpeg',\n",
       " '../Dataset/sharp/249_IPHONE-SE_S.jpeg',\n",
       " '../Dataset/sharp/24_HUAWEI-Y9_S.jpg',\n",
       " '../Dataset/sharp/250_IPHONE-SE_S.jpeg',\n",
       " '../Dataset/sharp/251_IPHONE-6S_S.jpeg',\n",
       " '../Dataset/sharp/252_HUAWEI-P30_S.jpg',\n",
       " '../Dataset/sharp/253_XIAOMI-REDMI-NOTE-7_S.jpg',\n",
       " '../Dataset/sharp/254_XIAOMI-REDMI-7_S.jpg',\n",
       " '../Dataset/sharp/255_XIAOMI-REDMI-7_S.jpg',\n",
       " '../Dataset/sharp/256_SAMSUNG-GALAXY-GRAND-PRIME_S.jpg',\n",
       " '../Dataset/sharp/257_HONOR-9_S.jpg',\n",
       " '../Dataset/sharp/258_HONOR-10_S.jpg',\n",
       " '../Dataset/sharp/259_XIAOMI-REDMI-7_S.jpg',\n",
       " '../Dataset/sharp/25_HUAWEI-Y9_S.jpg',\n",
       " '../Dataset/sharp/260_HUAWEI-NOVA-LITE_S.jpg',\n",
       " '../Dataset/sharp/261_HONOR-10_S.jpg',\n",
       " '../Dataset/sharp/262_IPHONE-SE_S.jpg',\n",
       " '../Dataset/sharp/263_XIAOMI-REDMI-3S_S.jpg',\n",
       " '../Dataset/sharp/264_IPHONE-7_S.jpeg',\n",
       " '../Dataset/sharp/265_HONOR-9-LITE_S.jpg',\n",
       " '../Dataset/sharp/266_SONY-NEX-5T_S.JPG',\n",
       " '../Dataset/sharp/267_SONY-NEX-5T_S.JPG',\n",
       " '../Dataset/sharp/268_NIKON-D3400-18-55MM_S.JPG',\n",
       " '../Dataset/sharp/269_NIKON-D3400-18-55MM_S.JPG',\n",
       " '../Dataset/sharp/26_HONOR-8X_S.jpg',\n",
       " '../Dataset/sharp/270_NIKON-D3400-18-55MM_S.JPG',\n",
       " '../Dataset/sharp/271_NIKON-D3400-18-55MM_S.JPG',\n",
       " '../Dataset/sharp/272_NIKON-D3400-18-55MM_S.JPG',\n",
       " '../Dataset/sharp/273_NIKON-D3400-18-55MM_S.JPG',\n",
       " '../Dataset/sharp/274_NIKON-D3400-18-55MM_S.JPG',\n",
       " '../Dataset/sharp/275_NIKON-D3400-18-55MM_S.JPG',\n",
       " '../Dataset/sharp/276_NIKON-D3400-18-55MM_S.JPG',\n",
       " '../Dataset/sharp/277_NIKON-D3400-18-55MM_S.JPG',\n",
       " '../Dataset/sharp/278_HONOR-7X_S.jpg',\n",
       " '../Dataset/sharp/279_NIKON-D3400-18-55MM_S.JPG',\n",
       " '../Dataset/sharp/27_HONOR-8X_S.jpg',\n",
       " '../Dataset/sharp/280_NIKON-D3400-18-55MM_S.JPG',\n",
       " '../Dataset/sharp/281_NIKON-D3400-18-55MM_S.JPG',\n",
       " '../Dataset/sharp/282_SONY-NEX-5T_S.JPG',\n",
       " '../Dataset/sharp/283_HONOR-10_S.jpg',\n",
       " '../Dataset/sharp/284_SONY-NEX-5T_S.JPG',\n",
       " '../Dataset/sharp/285_SONY-NEX-5T_S.JPG',\n",
       " '../Dataset/sharp/286_SONY-NEX-5T_S.JPG',\n",
       " '../Dataset/sharp/287_WILEYFOX-SWIFT-2-PLUS_S.jpg',\n",
       " '../Dataset/sharp/288_XIAOMI-REDMI-NOTE-7_S.jpg',\n",
       " '../Dataset/sharp/289_WILEYFOX-SWIFT-2-PLUS_S.jpg',\n",
       " '../Dataset/sharp/28_HONOR-8X_S.jpg',\n",
       " '../Dataset/sharp/290_IPHONE-SE_S.jpg',\n",
       " '../Dataset/sharp/291_IPHONE-SE_S.jpg',\n",
       " '../Dataset/sharp/292_NIKON-D3400-35MM_S.JPG',\n",
       " '../Dataset/sharp/293_NIKON-D3400-35MM_S.JPG',\n",
       " '../Dataset/sharp/294_PRESTIGIO-MULTI-PHONE_S.jpg',\n",
       " '../Dataset/sharp/295_HONOR-7X_S.jpg',\n",
       " '../Dataset/sharp/296_NIKON-D3400-35MM_S.JPG',\n",
       " '../Dataset/sharp/297_NIKON-D3400-35MM_S.JPG',\n",
       " '../Dataset/sharp/298_NIKON-D3400-35MM_S.JPG',\n",
       " '../Dataset/sharp/299_NIKON-D3400-35MM_S.JPG',\n",
       " '../Dataset/sharp/29_HONOR-7X_S.jpg',\n",
       " '../Dataset/sharp/2_XIAOMI-PROCOFONE-F1_S.jpg',\n",
       " '../Dataset/sharp/300_XIAOMI-REDMI-NOTE-7_S.jpg',\n",
       " '../Dataset/sharp/301_NIKON-D3400-35MM_S.JPG',\n",
       " '../Dataset/sharp/302_IPHONE-SE_S.jpeg',\n",
       " '../Dataset/sharp/303_SAMSUNG-GALAXY-A8_S.jpg',\n",
       " '../Dataset/sharp/304_SAMSUNG-GALAXY-J7_S.jpg',\n",
       " '../Dataset/sharp/305_HONOR-9_S.jpg',\n",
       " '../Dataset/sharp/306_XIAOMI-REDMI-5-PLUS_S.jpg',\n",
       " '../Dataset/sharp/307_HONOR-7X_S.jpg',\n",
       " '../Dataset/sharp/308_IPHONE-6S_S.jpeg',\n",
       " '../Dataset/sharp/309_SAMSUNG-GALAXY-A8_S.jpg',\n",
       " '../Dataset/sharp/30_HONOR-8X_S.jpg',\n",
       " '../Dataset/sharp/310_XIAOMI-PROCOFONE-F1_S.jpg',\n",
       " '../Dataset/sharp/311_HONOR-6X_S.jpg',\n",
       " '../Dataset/sharp/312_ASUS-ZENFONE-LIVE-ZB501KL_S.jpg',\n",
       " '../Dataset/sharp/313_XIAOMI-PROCOFONE-F1_S.jpg',\n",
       " '../Dataset/sharp/314_IPHONE-5S_S.jpeg',\n",
       " '../Dataset/sharp/315_HUAWEI-NOVA-LITE_S.jpg',\n",
       " '../Dataset/sharp/316_IPHONE-7_S.jpeg',\n",
       " '../Dataset/sharp/317_IPHONE-8-PLUS_S.jpg',\n",
       " '../Dataset/sharp/318_HONOR-7C_S.jpg',\n",
       " '../Dataset/sharp/319_XIAOMI-REDMI-NOTE-4X_S.jpg',\n",
       " '../Dataset/sharp/31_IPHONE-SE_S.jpg',\n",
       " '../Dataset/sharp/320_HONOR-7X_S.jpg',\n",
       " '../Dataset/sharp/321_XIAOMI-PROCOFONE-F1_S.jpg',\n",
       " '../Dataset/sharp/322_HONOR-7C_S.jpg',\n",
       " '../Dataset/sharp/323_XIAOMI-PROCOFONE-F1_S.jpg',\n",
       " '../Dataset/sharp/324_ASUS-ZENFONE-LIVE-ZB501KL_S.jpg',\n",
       " '../Dataset/sharp/325_SAMSUNG-GALAXY-J3_S.jpg',\n",
       " '../Dataset/sharp/326_XIAOMI-PROCOFONE-F1_S.jpg',\n",
       " '../Dataset/sharp/327_IPHONE-SE_S.jpg',\n",
       " '../Dataset/sharp/328_SAMSUNG-GALAXY-J3_S.jpg',\n",
       " '../Dataset/sharp/329_HONOR-7C_S.jpg',\n",
       " '../Dataset/sharp/32_HUAWEI-P-SMART_S.jpg',\n",
       " '../Dataset/sharp/330_XIAOMI-PROCOFONE-F1_S.jpg',\n",
       " '../Dataset/sharp/331_XIAOMI-PROCOFONE-F1_S.jpg',\n",
       " '../Dataset/sharp/332_XIAOMI-PROCOFONE-F1_S.jpg',\n",
       " '../Dataset/sharp/333_HONOR-7X_S.jpg',\n",
       " '../Dataset/sharp/334_XIAOMI-PROCOFONE-F1_S.jpg',\n",
       " '../Dataset/sharp/335_XIAOMI-PROCOFONE-F1_S.jpg',\n",
       " '../Dataset/sharp/336_ASUS-ZENFONE-LIVE-ZB501KL_S.jpg',\n",
       " '../Dataset/sharp/337_XIAOMI-PROCOFONE-F1_S.jpg',\n",
       " '../Dataset/sharp/338_IPHONE-SE_S.jpg',\n",
       " '../Dataset/sharp/339_XIAOMI-REDMI-4X_S.jpg',\n",
       " '../Dataset/sharp/33_HONOR-8X_S.jpg',\n",
       " '../Dataset/sharp/340_XIAOMI-PROCOFONE-F1_S.jpg',\n",
       " '../Dataset/sharp/341_XIAOMI-PROCOFONE-F1_S.jpg',\n",
       " '../Dataset/sharp/342_XIAOMI-PROCOFONE-F1_S.jpg',\n",
       " '../Dataset/sharp/343_XIAOMI-PROCOFONE-F1_S.jpg',\n",
       " '../Dataset/sharp/344_XIAOMI-PROCOFONE-F1_S.jpg',\n",
       " '../Dataset/sharp/345_XIAOMI-PROCOFONE-F1_S.jpg',\n",
       " '../Dataset/sharp/346_HUAWEI-MATE20_S.jpg',\n",
       " '../Dataset/sharp/347_XIAOMI-PROCOFONE-F1_S.jpg',\n",
       " '../Dataset/sharp/348_IPHONE-8_S.JPG',\n",
       " '../Dataset/sharp/349_IPHONE-SE_S.jpg',\n",
       " '../Dataset/sharp/34_HONOR-8X_S.jpg',\n",
       " '../Dataset/sharp/35_IPHONE-6S_S.jpeg',\n",
       " '../Dataset/sharp/36_HONOR-8X_S.jpg',\n",
       " '../Dataset/sharp/37_HONOR-8X_S.jpg',\n",
       " '../Dataset/sharp/38_HONOR-8X_S.jpg',\n",
       " '../Dataset/sharp/39_XIAOMI-MI8-LITE_S.jpg',\n",
       " '../Dataset/sharp/3_HUAWEI-NOVA-LITE_S.jpg',\n",
       " '../Dataset/sharp/40_IPHONE-6S_S.jpeg',\n",
       " '../Dataset/sharp/41_XIAOMI-PROCOFONE-F1_S.jpg',\n",
       " '../Dataset/sharp/42_NIKON-D3400-35MM_S.JPG',\n",
       " '../Dataset/sharp/43_HONOR-8X_S.jpg',\n",
       " '../Dataset/sharp/44_SONY-XPERIA-E5_S.jpg',\n",
       " '../Dataset/sharp/45_HONOR-7X_S.jpg',\n",
       " '../Dataset/sharp/46_IPHONE-8-PLUS_S.jpg',\n",
       " '../Dataset/sharp/47_XIAOMI-REDMI-7_S.jpg',\n",
       " '../Dataset/sharp/48_HONOR-8X_S.jpg',\n",
       " '../Dataset/sharp/49_HONOR-8X_S.jpg',\n",
       " '../Dataset/sharp/4_XIAOMI-PROCOFONE-F1_S.jpg',\n",
       " '../Dataset/sharp/50_HONOR-8X_S.jpg',\n",
       " '../Dataset/sharp/51_IPHONE-SE_S.jpg',\n",
       " '../Dataset/sharp/52_HONOR-8X_S.jpg',\n",
       " '../Dataset/sharp/53_NIKON-D3400-35MM_S.JPG',\n",
       " '../Dataset/sharp/54_HONOR-8X_S.jpg',\n",
       " '../Dataset/sharp/55_HONOR-8X_S.jpg',\n",
       " '../Dataset/sharp/56_HONOR-8X_S.jpg',\n",
       " '../Dataset/sharp/57_IPHONE-SE_S.jpg',\n",
       " '../Dataset/sharp/58_IPHONE-6S_S.jpeg',\n",
       " '../Dataset/sharp/59_IPHONE-6S_S.jpg',\n",
       " '../Dataset/sharp/5_XIAOMI-PROCOFONE-F1_S.jpg',\n",
       " '../Dataset/sharp/60_IPHONE-8-PLUS_S.jpg',\n",
       " '../Dataset/sharp/61_XIAOMI-REDMI-7_S.jpg',\n",
       " '../Dataset/sharp/62_HONOR-8X_S.jpg',\n",
       " '../Dataset/sharp/63_HUAWEI-P20_S.jpg',\n",
       " '../Dataset/sharp/64_SAMSUNG-GALAXY-S5_S.jpg',\n",
       " '../Dataset/sharp/65_NIKON-D3400-35MM_S.JPG',\n",
       " '../Dataset/sharp/66_HONOR-8X_S.jpg',\n",
       " '../Dataset/sharp/67_HONOR-8X_S.jpg',\n",
       " '../Dataset/sharp/68_HONOR-8X_S.jpg',\n",
       " '../Dataset/sharp/69_SAMSUNG-GALAXY-J3_S.jpg',\n",
       " '../Dataset/sharp/6_HUAWEI-MATE20_S.jpg',\n",
       " '../Dataset/sharp/70_HONOR-8X_S.jpg',\n",
       " '../Dataset/sharp/71_SAMSUNG-GALAXY-A6_S.jpg',\n",
       " '../Dataset/sharp/72_IPHONE-8_S.jpg',\n",
       " '../Dataset/sharp/73_PANASONIC-DMC-TZ35_S.JPG',\n",
       " '../Dataset/sharp/74_HONOR-8X_S.jpg',\n",
       " '../Dataset/sharp/75_HONOR-8X_S.jpg',\n",
       " '../Dataset/sharp/76_HONOR-8X_S.jpg',\n",
       " '../Dataset/sharp/77_HONOR-7C_S.jpg',\n",
       " '../Dataset/sharp/78_NIKON-D3400-35MM_S.JPG',\n",
       " '../Dataset/sharp/79_HUAWEI-P30-PRO_S.jpg',\n",
       " '../Dataset/sharp/7_NIKON-D3400-35MM_S.JPG',\n",
       " '../Dataset/sharp/80_HUAWEI-P30-PRO_S.jpg',\n",
       " '../Dataset/sharp/81_SAMSUNG-GALAXY-J3_S.jpg',\n",
       " '../Dataset/sharp/82_HONOR-8X_S.jpg',\n",
       " '../Dataset/sharp/83_HONOR-8X_S.jpg',\n",
       " '../Dataset/sharp/84_IPHONE-XR_S.jpeg',\n",
       " '../Dataset/sharp/85_HONOR-8X_S.jpg',\n",
       " '../Dataset/sharp/86_HONOR-8X_S.jpg',\n",
       " '../Dataset/sharp/87_IPHONE-8-PLUS_S.jpg',\n",
       " '../Dataset/sharp/88_HONOR-8X_S.jpg',\n",
       " '../Dataset/sharp/89_IPHONE-6S_S.jpeg',\n",
       " '../Dataset/sharp/8_SAMSUNG-GALAXY-A6_S.jpg',\n",
       " '../Dataset/sharp/90_HONOR-7X_S.jpg',\n",
       " '../Dataset/sharp/91_HONOR-7X_S.jpg',\n",
       " '../Dataset/sharp/92_IPHONE-7_S.jpeg',\n",
       " '../Dataset/sharp/93_HONOR-7X_S.jpg',\n",
       " '../Dataset/sharp/94_HONOR-7X_S.jpg',\n",
       " '../Dataset/sharp/95_HONOR-7X_S.jpg',\n",
       " '../Dataset/sharp/96_HONOR-7X_S.jpg',\n",
       " '../Dataset/sharp/97_HONOR-7X_S.jpg',\n",
       " '../Dataset/sharp/98_HONOR-7X_S.jpg',\n",
       " '../Dataset/sharp/99_HONOR-7X_S.jpg',\n",
       " '../Dataset/sharp/9_HUAWEI-P20_S.jpg']"
      ]
     },
     "execution_count": 16,
     "metadata": {},
     "output_type": "execute_result"
    }
   ],
   "source": [
    "Y"
   ]
  },
  {
   "cell_type": "markdown",
   "metadata": {},
   "source": [
    "## Split Testing and Training Dataset"
   ]
  },
  {
   "cell_type": "code",
   "execution_count": 17,
   "metadata": {},
   "outputs": [
    {
     "name": "stdout",
     "output_type": "stream",
     "text": [
      "262\n",
      "88\n",
      "262\n",
      "88\n"
     ]
    }
   ],
   "source": [
    "# Split input and output dataset into training and validation dataset\n",
    "(x_train, x_val, y_train, y_val) = train_test_split(X, Y, test_size=0.25) \n",
    "print(len(x_train))\n",
    "print(len(x_val))\n",
    "print(len(y_train))\n",
    "print(len(y_val))"
   ]
  },
  {
   "cell_type": "markdown",
   "metadata": {},
   "source": [
    "## Training"
   ]
  },
  {
   "cell_type": "code",
   "execution_count": 31,
   "metadata": {},
   "outputs": [],
   "source": [
    "class DeblurDataset(Dataset):\n",
    "    def __init__(self, blur_paths, sharp_paths=None, transforms=None):\n",
    "        self.X = blur_paths\n",
    "        self.y = sharp_paths\n",
    "        self.transforms = transforms\n",
    "    def __len__(self):\n",
    "        #print(len(self.X))\n",
    "        return (len(self.X))\n",
    "    def __getitem__(self, i):\n",
    "        #print(i)\n",
    "        #print(\"Blurimage : \",self.X[i])\n",
    "        #print(\"Sharpimage : \",self.y[i])\n",
    "        blur_image = cv2.imread(f\"{self.X[i]}\")\n",
    "        #print(\"\\nblur image : \\n\",blur_image)\n",
    "        if self.transforms:\n",
    "            blur_image = self.transforms(blur_image)\n",
    "            #print(\"\\nblur image : \\n\",blur_image)\n",
    "        if self.y is not None:\n",
    "            sharp_image = cv2.imread(f\"{self.y[i]}\")\n",
    "            sharp_image = self.transforms(sharp_image)\n",
    "            return (blur_image, sharp_image)\n",
    "        else:\n",
    "            return blur_image"
   ]
  },
  {
   "cell_type": "code",
   "execution_count": 23,
   "metadata": {},
   "outputs": [],
   "source": [
    "def fit(model, dataloader, epoch):\n",
    "    model.train()\n",
    "    running_loss = 0.0\n",
    "    for i, data in tqdm(enumerate(dataloader), total=int(len(train_data)/dataloader.batch_size)):\n",
    "        blur_image = data[0]\n",
    "        sharp_image = data[1]\n",
    "        blur_image = blur_image.to(device)\n",
    "        sharp_image = sharp_image.to(device)\n",
    "        optimizer.zero_grad()\n",
    "        #print(blur_image)\n",
    "        outputs = model(blur_image)\n",
    "        loss = criterion(outputs, sharp_image)\n",
    "        # backpropagation\n",
    "        loss.backward()\n",
    "        # update the parameters\n",
    "        optimizer.step()\n",
    "        running_loss += loss.item()\n",
    "    train_loss = running_loss/len(dataloader.dataset)\n",
    "    print(f\"Train Loss: {train_loss:.5f}\")\n",
    "    return train_loss"
   ]
  },
  {
   "cell_type": "code",
   "execution_count": 24,
   "metadata": {
    "scrolled": false
   },
   "outputs": [
    {
     "name": "stdout",
     "output_type": "stream",
     "text": [
      "1\n"
     ]
    }
   ],
   "source": [
    "train_data = DeblurDataset(x_train, y_train, transform)\n",
    "print(\"1\")\n",
    "trainloader = DataLoader(train_data, batch_size=batch_size, shuffle=True)"
   ]
  },
  {
   "cell_type": "code",
   "execution_count": 25,
   "metadata": {},
   "outputs": [
    {
     "name": "stderr",
     "output_type": "stream",
     "text": [
      "\r",
      "  0%|          | 0/262 [00:00<?, ?it/s]"
     ]
    },
    {
     "name": "stdout",
     "output_type": "stream",
     "text": [
      "Epoch 1 of 60\n"
     ]
    },
    {
     "name": "stderr",
     "output_type": "stream",
     "text": [
      "100%|██████████| 262/262 [6:26:59<00:00, 88.62s/it]      \n",
      "  0%|          | 0/262 [00:00<?, ?it/s]"
     ]
    },
    {
     "name": "stdout",
     "output_type": "stream",
     "text": [
      "Train Loss: 0.00922\n",
      "Epoch 2 of 60\n"
     ]
    },
    {
     "name": "stderr",
     "output_type": "stream",
     "text": [
      "100%|██████████| 262/262 [06:45<00:00,  1.55s/it]\n",
      "  0%|          | 0/262 [00:00<?, ?it/s]"
     ]
    },
    {
     "name": "stdout",
     "output_type": "stream",
     "text": [
      "Train Loss: 0.00305\n",
      "Epoch 3 of 60\n"
     ]
    },
    {
     "name": "stderr",
     "output_type": "stream",
     "text": [
      "100%|██████████| 262/262 [06:24<00:00,  1.47s/it]\n",
      "  0%|          | 0/262 [00:00<?, ?it/s]"
     ]
    },
    {
     "name": "stdout",
     "output_type": "stream",
     "text": [
      "Train Loss: 0.00305\n",
      "Epoch 4 of 60\n"
     ]
    },
    {
     "name": "stderr",
     "output_type": "stream",
     "text": [
      "100%|██████████| 262/262 [06:54<00:00,  1.58s/it]\n",
      "  0%|          | 0/262 [00:00<?, ?it/s]"
     ]
    },
    {
     "name": "stdout",
     "output_type": "stream",
     "text": [
      "Train Loss: 0.00228\n",
      "Epoch 5 of 60\n"
     ]
    },
    {
     "name": "stderr",
     "output_type": "stream",
     "text": [
      "100%|██████████| 262/262 [05:21<00:00,  1.23s/it]\n",
      "  0%|          | 0/262 [00:00<?, ?it/s]"
     ]
    },
    {
     "name": "stdout",
     "output_type": "stream",
     "text": [
      "Train Loss: 0.00175\n",
      "Epoch 6 of 60\n"
     ]
    },
    {
     "name": "stderr",
     "output_type": "stream",
     "text": [
      "100%|██████████| 262/262 [05:02<00:00,  1.15s/it]\n",
      "  0%|          | 0/262 [00:00<?, ?it/s]"
     ]
    },
    {
     "name": "stdout",
     "output_type": "stream",
     "text": [
      "Train Loss: 0.00178\n",
      "Epoch 7 of 60\n"
     ]
    },
    {
     "name": "stderr",
     "output_type": "stream",
     "text": [
      "100%|██████████| 262/262 [04:53<00:00,  1.12s/it]\n",
      "  0%|          | 0/262 [00:00<?, ?it/s]"
     ]
    },
    {
     "name": "stdout",
     "output_type": "stream",
     "text": [
      "Train Loss: 0.00183\n",
      "Epoch 8 of 60\n"
     ]
    },
    {
     "name": "stderr",
     "output_type": "stream",
     "text": [
      "100%|██████████| 262/262 [05:42<00:00,  1.31s/it]\n",
      "  0%|          | 0/262 [00:00<?, ?it/s]"
     ]
    },
    {
     "name": "stdout",
     "output_type": "stream",
     "text": [
      "Train Loss: 0.00375\n",
      "Epoch 9 of 60\n"
     ]
    },
    {
     "name": "stderr",
     "output_type": "stream",
     "text": [
      "100%|██████████| 262/262 [06:03<00:00,  1.39s/it]\n",
      "  0%|          | 0/262 [00:00<?, ?it/s]"
     ]
    },
    {
     "name": "stdout",
     "output_type": "stream",
     "text": [
      "Train Loss: 0.00162\n",
      "Epoch 10 of 60\n"
     ]
    },
    {
     "name": "stderr",
     "output_type": "stream",
     "text": [
      "100%|██████████| 262/262 [05:47<00:00,  1.33s/it]\n",
      "  0%|          | 0/262 [00:00<?, ?it/s]"
     ]
    },
    {
     "name": "stdout",
     "output_type": "stream",
     "text": [
      "Train Loss: 0.00246\n",
      "Epoch 11 of 60\n"
     ]
    },
    {
     "name": "stderr",
     "output_type": "stream",
     "text": [
      "100%|██████████| 262/262 [05:06<00:00,  1.17s/it]\n",
      "  0%|          | 0/262 [00:00<?, ?it/s]"
     ]
    },
    {
     "name": "stdout",
     "output_type": "stream",
     "text": [
      "Train Loss: 0.00147\n",
      "Epoch 12 of 60\n"
     ]
    },
    {
     "name": "stderr",
     "output_type": "stream",
     "text": [
      "100%|██████████| 262/262 [04:40<00:00,  1.07s/it]\n",
      "  0%|          | 0/262 [00:00<?, ?it/s]"
     ]
    },
    {
     "name": "stdout",
     "output_type": "stream",
     "text": [
      "Train Loss: 0.00130\n",
      "Epoch 13 of 60\n"
     ]
    },
    {
     "name": "stderr",
     "output_type": "stream",
     "text": [
      "100%|██████████| 262/262 [04:34<00:00,  1.05s/it]\n",
      "  0%|          | 0/262 [00:00<?, ?it/s]"
     ]
    },
    {
     "name": "stdout",
     "output_type": "stream",
     "text": [
      "Train Loss: 0.00125\n",
      "Epoch 14 of 60\n"
     ]
    },
    {
     "name": "stderr",
     "output_type": "stream",
     "text": [
      "100%|██████████| 262/262 [04:35<00:00,  1.05s/it]\n",
      "  0%|          | 0/262 [00:00<?, ?it/s]"
     ]
    },
    {
     "name": "stdout",
     "output_type": "stream",
     "text": [
      "Train Loss: 0.00255\n",
      "Epoch 15 of 60\n"
     ]
    },
    {
     "name": "stderr",
     "output_type": "stream",
     "text": [
      "100%|██████████| 262/262 [04:29<00:00,  1.03s/it]\n",
      "  0%|          | 0/262 [00:00<?, ?it/s]"
     ]
    },
    {
     "name": "stdout",
     "output_type": "stream",
     "text": [
      "Train Loss: 0.00128\n",
      "Epoch 16 of 60\n"
     ]
    },
    {
     "name": "stderr",
     "output_type": "stream",
     "text": [
      "100%|██████████| 262/262 [04:17<00:00,  1.02it/s]\n",
      "  0%|          | 0/262 [00:00<?, ?it/s]"
     ]
    },
    {
     "name": "stdout",
     "output_type": "stream",
     "text": [
      "Train Loss: 0.00140\n",
      "Epoch 17 of 60\n"
     ]
    },
    {
     "name": "stderr",
     "output_type": "stream",
     "text": [
      "100%|██████████| 262/262 [05:37<00:00,  1.29s/it]\n",
      "  0%|          | 0/262 [00:00<?, ?it/s]"
     ]
    },
    {
     "name": "stdout",
     "output_type": "stream",
     "text": [
      "Train Loss: 0.00180\n",
      "Epoch 18 of 60\n"
     ]
    },
    {
     "name": "stderr",
     "output_type": "stream",
     "text": [
      "100%|██████████| 262/262 [06:12<00:00,  1.42s/it]\n",
      "  0%|          | 0/262 [00:00<?, ?it/s]"
     ]
    },
    {
     "name": "stdout",
     "output_type": "stream",
     "text": [
      "Train Loss: 0.00099\n",
      "Epoch 19 of 60\n"
     ]
    },
    {
     "name": "stderr",
     "output_type": "stream",
     "text": [
      "100%|██████████| 262/262 [05:34<00:00,  1.28s/it]\n",
      "  0%|          | 0/262 [00:00<?, ?it/s]"
     ]
    },
    {
     "name": "stdout",
     "output_type": "stream",
     "text": [
      "Train Loss: 0.00150\n",
      "Epoch 20 of 60\n"
     ]
    },
    {
     "name": "stderr",
     "output_type": "stream",
     "text": [
      "100%|██████████| 262/262 [05:32<00:00,  1.27s/it]\n",
      "  0%|          | 0/262 [00:00<?, ?it/s]"
     ]
    },
    {
     "name": "stdout",
     "output_type": "stream",
     "text": [
      "Train Loss: 0.00110\n",
      "Epoch 21 of 60\n"
     ]
    },
    {
     "name": "stderr",
     "output_type": "stream",
     "text": [
      "100%|██████████| 262/262 [05:35<00:00,  1.28s/it]\n",
      "  0%|          | 0/262 [00:00<?, ?it/s]"
     ]
    },
    {
     "name": "stdout",
     "output_type": "stream",
     "text": [
      "Train Loss: 0.00107\n",
      "Epoch 22 of 60\n"
     ]
    },
    {
     "name": "stderr",
     "output_type": "stream",
     "text": [
      "100%|██████████| 262/262 [05:47<00:00,  1.33s/it]\n",
      "  0%|          | 0/262 [00:00<?, ?it/s]"
     ]
    },
    {
     "name": "stdout",
     "output_type": "stream",
     "text": [
      "Train Loss: 0.00163\n",
      "Epoch 23 of 60\n"
     ]
    },
    {
     "name": "stderr",
     "output_type": "stream",
     "text": [
      "100%|██████████| 262/262 [05:34<00:00,  1.28s/it]\n",
      "  0%|          | 0/262 [00:00<?, ?it/s]"
     ]
    },
    {
     "name": "stdout",
     "output_type": "stream",
     "text": [
      "Train Loss: 0.00137\n",
      "Epoch 24 of 60\n"
     ]
    },
    {
     "name": "stderr",
     "output_type": "stream",
     "text": [
      "100%|██████████| 262/262 [05:32<00:00,  1.27s/it]\n",
      "  0%|          | 0/262 [00:00<?, ?it/s]"
     ]
    },
    {
     "name": "stdout",
     "output_type": "stream",
     "text": [
      "Train Loss: 0.00166\n",
      "Epoch 25 of 60\n"
     ]
    },
    {
     "name": "stderr",
     "output_type": "stream",
     "text": [
      "100%|██████████| 262/262 [05:35<00:00,  1.28s/it]\n",
      "  0%|          | 0/262 [00:00<?, ?it/s]"
     ]
    },
    {
     "name": "stdout",
     "output_type": "stream",
     "text": [
      "Train Loss: 0.00104\n",
      "Epoch 26 of 60\n"
     ]
    },
    {
     "name": "stderr",
     "output_type": "stream",
     "text": [
      "100%|██████████| 262/262 [04:38<00:00,  1.06s/it]\n",
      "  0%|          | 0/262 [00:00<?, ?it/s]"
     ]
    },
    {
     "name": "stdout",
     "output_type": "stream",
     "text": [
      "Train Loss: 0.00102\n",
      "Epoch 27 of 60\n"
     ]
    },
    {
     "name": "stderr",
     "output_type": "stream",
     "text": [
      "100%|██████████| 262/262 [04:26<00:00,  1.02s/it]\n",
      "  0%|          | 0/262 [00:00<?, ?it/s]"
     ]
    },
    {
     "name": "stdout",
     "output_type": "stream",
     "text": [
      "Train Loss: 0.00083\n",
      "Epoch 28 of 60\n"
     ]
    },
    {
     "name": "stderr",
     "output_type": "stream",
     "text": [
      "100%|██████████| 262/262 [04:37<00:00,  1.06s/it]\n",
      "  0%|          | 0/262 [00:00<?, ?it/s]"
     ]
    },
    {
     "name": "stdout",
     "output_type": "stream",
     "text": [
      "Train Loss: 0.00174\n",
      "Epoch 29 of 60\n"
     ]
    },
    {
     "name": "stderr",
     "output_type": "stream",
     "text": [
      "100%|██████████| 262/262 [04:55<00:00,  1.13s/it]\n",
      "  0%|          | 0/262 [00:00<?, ?it/s]"
     ]
    },
    {
     "name": "stdout",
     "output_type": "stream",
     "text": [
      "Train Loss: 0.00153\n",
      "Epoch 30 of 60\n"
     ]
    },
    {
     "name": "stderr",
     "output_type": "stream",
     "text": [
      "100%|██████████| 262/262 [04:22<00:00,  1.00s/it]\n",
      "  0%|          | 0/262 [00:00<?, ?it/s]"
     ]
    },
    {
     "name": "stdout",
     "output_type": "stream",
     "text": [
      "Train Loss: 0.00097\n",
      "Epoch 31 of 60\n"
     ]
    },
    {
     "name": "stderr",
     "output_type": "stream",
     "text": [
      "100%|██████████| 262/262 [04:19<00:00,  1.01it/s]\n",
      "  0%|          | 0/262 [00:00<?, ?it/s]"
     ]
    },
    {
     "name": "stdout",
     "output_type": "stream",
     "text": [
      "Train Loss: 0.00109\n",
      "Epoch 32 of 60\n"
     ]
    },
    {
     "name": "stderr",
     "output_type": "stream",
     "text": [
      "100%|██████████| 262/262 [04:15<00:00,  1.03it/s]\n",
      "  0%|          | 0/262 [00:00<?, ?it/s]"
     ]
    },
    {
     "name": "stdout",
     "output_type": "stream",
     "text": [
      "Train Loss: 0.00095\n",
      "Epoch 33 of 60\n"
     ]
    },
    {
     "name": "stderr",
     "output_type": "stream",
     "text": [
      "100%|██████████| 262/262 [04:20<00:00,  1.00it/s]\n",
      "  0%|          | 0/262 [00:00<?, ?it/s]"
     ]
    },
    {
     "name": "stdout",
     "output_type": "stream",
     "text": [
      "Train Loss: 0.00101\n",
      "Epoch 34 of 60\n"
     ]
    },
    {
     "name": "stderr",
     "output_type": "stream",
     "text": [
      "100%|██████████| 262/262 [04:27<00:00,  1.02s/it]\n",
      "  0%|          | 0/262 [00:00<?, ?it/s]"
     ]
    },
    {
     "name": "stdout",
     "output_type": "stream",
     "text": [
      "Train Loss: 0.00171\n",
      "Epoch 35 of 60\n"
     ]
    },
    {
     "name": "stderr",
     "output_type": "stream",
     "text": [
      "100%|██████████| 262/262 [05:48<00:00,  1.33s/it]\n",
      "  0%|          | 0/262 [00:00<?, ?it/s]"
     ]
    },
    {
     "name": "stdout",
     "output_type": "stream",
     "text": [
      "Train Loss: 0.00084\n",
      "Epoch 36 of 60\n"
     ]
    },
    {
     "name": "stderr",
     "output_type": "stream",
     "text": [
      "100%|██████████| 262/262 [05:30<00:00,  1.26s/it]\n",
      "  0%|          | 0/262 [00:00<?, ?it/s]"
     ]
    },
    {
     "name": "stdout",
     "output_type": "stream",
     "text": [
      "Train Loss: 0.00117\n",
      "Epoch 37 of 60\n"
     ]
    },
    {
     "name": "stderr",
     "output_type": "stream",
     "text": [
      "100%|██████████| 262/262 [07:25<00:00,  1.70s/it]\n",
      "  0%|          | 0/262 [00:00<?, ?it/s]"
     ]
    },
    {
     "name": "stdout",
     "output_type": "stream",
     "text": [
      "Train Loss: 0.00136\n",
      "Epoch 38 of 60\n"
     ]
    },
    {
     "name": "stderr",
     "output_type": "stream",
     "text": [
      "100%|██████████| 262/262 [10:31<00:00,  2.41s/it]\n",
      "  0%|          | 0/262 [00:00<?, ?it/s]"
     ]
    },
    {
     "name": "stdout",
     "output_type": "stream",
     "text": [
      "Train Loss: 0.00098\n",
      "Epoch 39 of 60\n"
     ]
    },
    {
     "name": "stderr",
     "output_type": "stream",
     "text": [
      "100%|██████████| 262/262 [09:22<00:00,  2.15s/it]\n",
      "  0%|          | 0/262 [00:00<?, ?it/s]"
     ]
    },
    {
     "name": "stdout",
     "output_type": "stream",
     "text": [
      "Train Loss: 0.00129\n",
      "Epoch 40 of 60\n"
     ]
    },
    {
     "name": "stderr",
     "output_type": "stream",
     "text": [
      "100%|██████████| 262/262 [07:51<00:00,  1.80s/it]\n",
      "  0%|          | 0/262 [00:00<?, ?it/s]"
     ]
    },
    {
     "name": "stdout",
     "output_type": "stream",
     "text": [
      "Train Loss: 0.00100\n",
      "Epoch 41 of 60\n"
     ]
    },
    {
     "name": "stderr",
     "output_type": "stream",
     "text": [
      "100%|██████████| 262/262 [05:27<00:00,  1.25s/it]\n",
      "  0%|          | 0/262 [00:00<?, ?it/s]"
     ]
    },
    {
     "name": "stdout",
     "output_type": "stream",
     "text": [
      "Train Loss: 0.00116\n",
      "Epoch 42 of 60\n"
     ]
    },
    {
     "name": "stderr",
     "output_type": "stream",
     "text": [
      "100%|██████████| 262/262 [05:03<00:00,  1.16s/it]\n",
      "  0%|          | 0/262 [00:00<?, ?it/s]"
     ]
    },
    {
     "name": "stdout",
     "output_type": "stream",
     "text": [
      "Train Loss: 0.00102\n",
      "Epoch 43 of 60\n"
     ]
    },
    {
     "name": "stderr",
     "output_type": "stream",
     "text": [
      "100%|██████████| 262/262 [04:22<00:00,  1.00s/it]\n",
      "  0%|          | 0/262 [00:00<?, ?it/s]"
     ]
    },
    {
     "name": "stdout",
     "output_type": "stream",
     "text": [
      "Train Loss: 0.00078\n",
      "Epoch 44 of 60\n"
     ]
    },
    {
     "name": "stderr",
     "output_type": "stream",
     "text": [
      "100%|██████████| 262/262 [04:17<00:00,  1.02it/s]\n",
      "  0%|          | 0/262 [00:00<?, ?it/s]"
     ]
    },
    {
     "name": "stdout",
     "output_type": "stream",
     "text": [
      "Train Loss: 0.00081\n",
      "Epoch 45 of 60\n"
     ]
    },
    {
     "name": "stderr",
     "output_type": "stream",
     "text": [
      "100%|██████████| 262/262 [04:25<00:00,  1.02s/it]\n",
      "  0%|          | 0/262 [00:00<?, ?it/s]"
     ]
    },
    {
     "name": "stdout",
     "output_type": "stream",
     "text": [
      "Train Loss: 0.00117\n",
      "Epoch 46 of 60\n"
     ]
    },
    {
     "name": "stderr",
     "output_type": "stream",
     "text": [
      "100%|██████████| 262/262 [04:39<00:00,  1.07s/it]\n",
      "  0%|          | 0/262 [00:00<?, ?it/s]"
     ]
    },
    {
     "name": "stdout",
     "output_type": "stream",
     "text": [
      "Train Loss: 0.00096\n",
      "Epoch 47 of 60\n"
     ]
    },
    {
     "name": "stderr",
     "output_type": "stream",
     "text": [
      "100%|██████████| 262/262 [04:10<00:00,  1.04it/s]\n",
      "  0%|          | 0/262 [00:00<?, ?it/s]"
     ]
    },
    {
     "name": "stdout",
     "output_type": "stream",
     "text": [
      "Train Loss: 0.00088\n",
      "Epoch 48 of 60\n"
     ]
    },
    {
     "name": "stderr",
     "output_type": "stream",
     "text": [
      "100%|██████████| 262/262 [04:09<00:00,  1.05it/s]\n",
      "  0%|          | 0/262 [00:00<?, ?it/s]"
     ]
    },
    {
     "name": "stdout",
     "output_type": "stream",
     "text": [
      "Train Loss: 0.00115\n",
      "Epoch 49 of 60\n"
     ]
    },
    {
     "name": "stderr",
     "output_type": "stream",
     "text": [
      "100%|██████████| 262/262 [04:04<00:00,  1.07it/s]\n",
      "  0%|          | 0/262 [00:00<?, ?it/s]"
     ]
    },
    {
     "name": "stdout",
     "output_type": "stream",
     "text": [
      "Train Loss: 0.00112\n",
      "Epoch 50 of 60\n"
     ]
    },
    {
     "name": "stderr",
     "output_type": "stream",
     "text": [
      "100%|██████████| 262/262 [04:13<00:00,  1.03it/s]\n",
      "  0%|          | 0/262 [00:00<?, ?it/s]"
     ]
    },
    {
     "name": "stdout",
     "output_type": "stream",
     "text": [
      "Train Loss: 0.00082\n",
      "Epoch 51 of 60\n"
     ]
    },
    {
     "name": "stderr",
     "output_type": "stream",
     "text": [
      "100%|██████████| 262/262 [06:06<00:00,  1.40s/it]\n",
      "  0%|          | 0/262 [00:00<?, ?it/s]"
     ]
    },
    {
     "name": "stdout",
     "output_type": "stream",
     "text": [
      "Train Loss: 0.00070\n",
      "Epoch 52 of 60\n"
     ]
    },
    {
     "name": "stderr",
     "output_type": "stream",
     "text": [
      "100%|██████████| 262/262 [05:18<00:00,  1.22s/it]\n",
      "  0%|          | 0/262 [00:00<?, ?it/s]"
     ]
    },
    {
     "name": "stdout",
     "output_type": "stream",
     "text": [
      "Train Loss: 0.00078\n",
      "Epoch 53 of 60\n"
     ]
    },
    {
     "name": "stderr",
     "output_type": "stream",
     "text": [
      "100%|██████████| 262/262 [05:40<00:00,  1.30s/it]\n",
      "  0%|          | 0/262 [00:00<?, ?it/s]"
     ]
    },
    {
     "name": "stdout",
     "output_type": "stream",
     "text": [
      "Train Loss: 0.00093\n",
      "Epoch 54 of 60\n"
     ]
    },
    {
     "name": "stderr",
     "output_type": "stream",
     "text": [
      "100%|██████████| 262/262 [06:20<00:00,  1.45s/it]\n",
      "  0%|          | 0/262 [00:00<?, ?it/s]"
     ]
    },
    {
     "name": "stdout",
     "output_type": "stream",
     "text": [
      "Train Loss: 0.00119\n",
      "Epoch 55 of 60\n"
     ]
    },
    {
     "name": "stderr",
     "output_type": "stream",
     "text": [
      "100%|██████████| 262/262 [06:20<00:00,  1.45s/it]\n",
      "  0%|          | 0/262 [00:00<?, ?it/s]"
     ]
    },
    {
     "name": "stdout",
     "output_type": "stream",
     "text": [
      "Train Loss: 0.00084\n",
      "Epoch 56 of 60\n"
     ]
    },
    {
     "name": "stderr",
     "output_type": "stream",
     "text": [
      "100%|██████████| 262/262 [05:58<00:00,  1.37s/it]\n",
      "  0%|          | 0/262 [00:00<?, ?it/s]"
     ]
    },
    {
     "name": "stdout",
     "output_type": "stream",
     "text": [
      "Train Loss: 0.00087\n",
      "Epoch 57 of 60\n"
     ]
    },
    {
     "name": "stderr",
     "output_type": "stream",
     "text": [
      "100%|██████████| 262/262 [05:57<00:00,  1.37s/it]\n",
      "  0%|          | 0/262 [00:00<?, ?it/s]"
     ]
    },
    {
     "name": "stdout",
     "output_type": "stream",
     "text": [
      "Train Loss: 0.00094\n",
      "Epoch 58 of 60\n"
     ]
    },
    {
     "name": "stderr",
     "output_type": "stream",
     "text": [
      "100%|██████████| 262/262 [06:04<00:00,  1.39s/it]\n",
      "  0%|          | 0/262 [00:00<?, ?it/s]"
     ]
    },
    {
     "name": "stdout",
     "output_type": "stream",
     "text": [
      "Train Loss: 0.00119\n",
      "Epoch 59 of 60\n"
     ]
    },
    {
     "name": "stderr",
     "output_type": "stream",
     "text": [
      "100%|██████████| 262/262 [05:34<00:00,  1.28s/it]\n",
      "  0%|          | 0/262 [00:00<?, ?it/s]"
     ]
    },
    {
     "name": "stdout",
     "output_type": "stream",
     "text": [
      "Train Loss: 0.00054\n",
      "Epoch 60 of 60\n"
     ]
    },
    {
     "name": "stderr",
     "output_type": "stream",
     "text": [
      "100%|██████████| 262/262 [06:07<00:00,  1.40s/it]\n"
     ]
    },
    {
     "name": "stdout",
     "output_type": "stream",
     "text": [
      "Train Loss: 0.00081\n",
      "Took -710.105 minutes to train\n"
     ]
    }
   ],
   "source": [
    "train_loss  = []\n",
    "start = time.time() \n",
    "for epoch in range(epochs):\n",
    "    print(f\"Epoch {epoch+1} of {epochs}\")\n",
    "    #print(trainloader)\n",
    "    train_epoch_loss = fit(model, trainloader, epoch)\n",
    "    train_loss.append(train_epoch_loss)\n",
    "end = time.time()\n",
    "print(f\"Took {((start-end)/60):.3f} minutes to train\")"
   ]
  },
  {
   "cell_type": "code",
   "execution_count": 26,
   "metadata": {},
   "outputs": [
    {
     "data": {
      "image/png": "[encoded data removed]",
      "text/plain": [
       "<Figure size 720x504 with 1 Axes>"
      ]
     },
     "metadata": {
      "needs_background": "light"
     },
     "output_type": "display_data"
    }
   ],
   "source": [
    "# Plot of Train loss\n",
    "plt.figure(figsize=(10, 7))\n",
    "plt.plot(train_loss, color='orange', label='train loss')\n",
    "plt.xlabel('Epochs')\n",
    "plt.ylabel('Loss')\n",
    "plt.legend()\n",
    "plt.savefig(out_dir + 'trainloss.png')\n",
    "plt.show()"
   ]
  },
  {
   "cell_type": "markdown",
   "metadata": {},
   "source": [
    "# Interface"
   ]
  },
  {
   "cell_type": "code",
   "execution_count": 35,
   "metadata": {
    "scrolled": true
   },
   "outputs": [
    {
     "name": "stderr",
     "output_type": "stream",
     "text": [
      "\r",
      "  0%|          | 0/1 [00:00<?, ?it/s]"
     ]
    },
    {
     "name": "stdout",
     "output_type": "stream",
     "text": [
      "['C:/Users/hp/anaconda3/Sem 4/S4 Project/Image Restoration/Dataset/gaussian_blurred/6_HUAWEI-MATE20_G.jpg']\n",
      "Epoch 1 of 60\n"
     ]
    },
    {
     "name": "stderr",
     "output_type": "stream",
     "text": [
      "100%|██████████| 1/1 [00:00<00:00,  1.67it/s]\n",
      "  0%|          | 0/1 [00:00<?, ?it/s]"
     ]
    },
    {
     "name": "stdout",
     "output_type": "stream",
     "text": [
      "Val Loss: 0.09858\n",
      "Epoch 2 of 60\n"
     ]
    },
    {
     "name": "stderr",
     "output_type": "stream",
     "text": [
      "100%|██████████| 1/1 [00:00<00:00,  1.75it/s]\n",
      "  0%|          | 0/1 [00:00<?, ?it/s]"
     ]
    },
    {
     "name": "stdout",
     "output_type": "stream",
     "text": [
      "Val Loss: 0.09858\n",
      "Epoch 3 of 60\n"
     ]
    },
    {
     "name": "stderr",
     "output_type": "stream",
     "text": [
      "100%|██████████| 1/1 [00:00<00:00,  1.55it/s]\n",
      "  0%|          | 0/1 [00:00<?, ?it/s]"
     ]
    },
    {
     "name": "stdout",
     "output_type": "stream",
     "text": [
      "Val Loss: 0.09858\n",
      "Epoch 4 of 60\n"
     ]
    },
    {
     "name": "stderr",
     "output_type": "stream",
     "text": [
      "100%|██████████| 1/1 [00:00<00:00,  1.64it/s]\n",
      "  0%|          | 0/1 [00:00<?, ?it/s]"
     ]
    },
    {
     "name": "stdout",
     "output_type": "stream",
     "text": [
      "Val Loss: 0.09858\n",
      "Epoch 5 of 60\n"
     ]
    },
    {
     "name": "stderr",
     "output_type": "stream",
     "text": [
      "100%|██████████| 1/1 [00:00<00:00,  1.77it/s]\n",
      "  0%|          | 0/1 [00:00<?, ?it/s]"
     ]
    },
    {
     "name": "stdout",
     "output_type": "stream",
     "text": [
      "Val Loss: 0.09858\n",
      "Epoch 6 of 60\n"
     ]
    },
    {
     "name": "stderr",
     "output_type": "stream",
     "text": [
      "100%|██████████| 1/1 [00:00<00:00,  1.81it/s]\n",
      "  0%|          | 0/1 [00:00<?, ?it/s]"
     ]
    },
    {
     "name": "stdout",
     "output_type": "stream",
     "text": [
      "Val Loss: 0.09858\n",
      "Epoch 7 of 60\n"
     ]
    },
    {
     "name": "stderr",
     "output_type": "stream",
     "text": [
      "100%|██████████| 1/1 [00:00<00:00,  1.58it/s]\n",
      "  0%|          | 0/1 [00:00<?, ?it/s]"
     ]
    },
    {
     "name": "stdout",
     "output_type": "stream",
     "text": [
      "Val Loss: 0.09858\n",
      "Epoch 8 of 60\n"
     ]
    },
    {
     "name": "stderr",
     "output_type": "stream",
     "text": [
      "100%|██████████| 1/1 [00:00<00:00,  1.54it/s]\n",
      "  0%|          | 0/1 [00:00<?, ?it/s]"
     ]
    },
    {
     "name": "stdout",
     "output_type": "stream",
     "text": [
      "Val Loss: 0.09858\n",
      "Epoch 9 of 60\n"
     ]
    },
    {
     "name": "stderr",
     "output_type": "stream",
     "text": [
      "100%|██████████| 1/1 [00:00<00:00,  1.47it/s]\n",
      "  0%|          | 0/1 [00:00<?, ?it/s]"
     ]
    },
    {
     "name": "stdout",
     "output_type": "stream",
     "text": [
      "Val Loss: 0.09858\n",
      "Epoch 10 of 60\n"
     ]
    },
    {
     "name": "stderr",
     "output_type": "stream",
     "text": [
      "100%|██████████| 1/1 [00:00<00:00,  1.77it/s]\n",
      "  0%|          | 0/1 [00:00<?, ?it/s]"
     ]
    },
    {
     "name": "stdout",
     "output_type": "stream",
     "text": [
      "Val Loss: 0.09858\n",
      "Epoch 11 of 60\n"
     ]
    },
    {
     "name": "stderr",
     "output_type": "stream",
     "text": [
      "100%|██████████| 1/1 [00:00<00:00,  1.29it/s]\n",
      "  0%|          | 0/1 [00:00<?, ?it/s]"
     ]
    },
    {
     "name": "stdout",
     "output_type": "stream",
     "text": [
      "Val Loss: 0.09858\n",
      "Epoch 12 of 60\n"
     ]
    },
    {
     "name": "stderr",
     "output_type": "stream",
     "text": [
      "100%|██████████| 1/1 [00:01<00:00,  1.12s/it]\n",
      "  0%|          | 0/1 [00:00<?, ?it/s]"
     ]
    },
    {
     "name": "stdout",
     "output_type": "stream",
     "text": [
      "Val Loss: 0.09858\n",
      "Epoch 13 of 60\n"
     ]
    },
    {
     "name": "stderr",
     "output_type": "stream",
     "text": [
      "100%|██████████| 1/1 [00:00<00:00,  1.40it/s]\n",
      "  0%|          | 0/1 [00:00<?, ?it/s]"
     ]
    },
    {
     "name": "stdout",
     "output_type": "stream",
     "text": [
      "Val Loss: 0.09858\n",
      "Epoch 14 of 60\n"
     ]
    },
    {
     "name": "stderr",
     "output_type": "stream",
     "text": [
      "100%|██████████| 1/1 [00:00<00:00,  1.31it/s]\n",
      "  0%|          | 0/1 [00:00<?, ?it/s]"
     ]
    },
    {
     "name": "stdout",
     "output_type": "stream",
     "text": [
      "Val Loss: 0.09858\n",
      "Epoch 15 of 60\n"
     ]
    },
    {
     "name": "stderr",
     "output_type": "stream",
     "text": [
      "100%|██████████| 1/1 [00:00<00:00,  1.78it/s]\n",
      "  0%|          | 0/1 [00:00<?, ?it/s]"
     ]
    },
    {
     "name": "stdout",
     "output_type": "stream",
     "text": [
      "Val Loss: 0.09858\n",
      "Epoch 16 of 60\n"
     ]
    },
    {
     "name": "stderr",
     "output_type": "stream",
     "text": [
      "100%|██████████| 1/1 [00:00<00:00,  1.80it/s]\n",
      "  0%|          | 0/1 [00:00<?, ?it/s]"
     ]
    },
    {
     "name": "stdout",
     "output_type": "stream",
     "text": [
      "Val Loss: 0.09858\n",
      "Epoch 17 of 60\n"
     ]
    },
    {
     "name": "stderr",
     "output_type": "stream",
     "text": [
      "100%|██████████| 1/1 [00:00<00:00,  1.77it/s]\n",
      "  0%|          | 0/1 [00:00<?, ?it/s]"
     ]
    },
    {
     "name": "stdout",
     "output_type": "stream",
     "text": [
      "Val Loss: 0.09858\n",
      "Epoch 18 of 60\n"
     ]
    },
    {
     "name": "stderr",
     "output_type": "stream",
     "text": [
      "100%|██████████| 1/1 [00:00<00:00,  1.76it/s]\n",
      "  0%|          | 0/1 [00:00<?, ?it/s]"
     ]
    },
    {
     "name": "stdout",
     "output_type": "stream",
     "text": [
      "Val Loss: 0.09858\n",
      "Epoch 19 of 60\n"
     ]
    },
    {
     "name": "stderr",
     "output_type": "stream",
     "text": [
      "100%|██████████| 1/1 [00:01<00:00,  1.06s/it]\n",
      "  0%|          | 0/1 [00:00<?, ?it/s]"
     ]
    },
    {
     "name": "stdout",
     "output_type": "stream",
     "text": [
      "Val Loss: 0.09858\n",
      "Epoch 20 of 60\n"
     ]
    },
    {
     "name": "stderr",
     "output_type": "stream",
     "text": [
      "100%|██████████| 1/1 [00:00<00:00,  1.83it/s]\n",
      "  0%|          | 0/1 [00:00<?, ?it/s]"
     ]
    },
    {
     "name": "stdout",
     "output_type": "stream",
     "text": [
      "Val Loss: 0.09858\n",
      "Epoch 21 of 60\n"
     ]
    },
    {
     "name": "stderr",
     "output_type": "stream",
     "text": [
      "100%|██████████| 1/1 [00:00<00:00,  1.57it/s]\n",
      "  0%|          | 0/1 [00:00<?, ?it/s]"
     ]
    },
    {
     "name": "stdout",
     "output_type": "stream",
     "text": [
      "Val Loss: 0.09858\n",
      "Epoch 22 of 60\n"
     ]
    },
    {
     "name": "stderr",
     "output_type": "stream",
     "text": [
      "100%|██████████| 1/1 [00:00<00:00,  1.18it/s]\n",
      "  0%|          | 0/1 [00:00<?, ?it/s]"
     ]
    },
    {
     "name": "stdout",
     "output_type": "stream",
     "text": [
      "Val Loss: 0.09858\n",
      "Epoch 23 of 60\n"
     ]
    },
    {
     "name": "stderr",
     "output_type": "stream",
     "text": [
      "100%|██████████| 1/1 [00:00<00:00,  1.49it/s]\n",
      "  0%|          | 0/1 [00:00<?, ?it/s]"
     ]
    },
    {
     "name": "stdout",
     "output_type": "stream",
     "text": [
      "Val Loss: 0.09858\n",
      "Epoch 24 of 60\n"
     ]
    },
    {
     "name": "stderr",
     "output_type": "stream",
     "text": [
      "100%|██████████| 1/1 [00:00<00:00,  1.48it/s]\n",
      "  0%|          | 0/1 [00:00<?, ?it/s]"
     ]
    },
    {
     "name": "stdout",
     "output_type": "stream",
     "text": [
      "Val Loss: 0.09858\n",
      "Epoch 25 of 60\n"
     ]
    },
    {
     "name": "stderr",
     "output_type": "stream",
     "text": [
      "100%|██████████| 1/1 [00:00<00:00,  1.25it/s]\n",
      "  0%|          | 0/1 [00:00<?, ?it/s]"
     ]
    },
    {
     "name": "stdout",
     "output_type": "stream",
     "text": [
      "Val Loss: 0.09858\n",
      "Epoch 26 of 60\n"
     ]
    },
    {
     "name": "stderr",
     "output_type": "stream",
     "text": [
      "100%|██████████| 1/1 [00:00<00:00,  1.24it/s]\n",
      "  0%|          | 0/1 [00:00<?, ?it/s]"
     ]
    },
    {
     "name": "stdout",
     "output_type": "stream",
     "text": [
      "Val Loss: 0.09858\n",
      "Epoch 27 of 60\n"
     ]
    },
    {
     "name": "stderr",
     "output_type": "stream",
     "text": [
      "100%|██████████| 1/1 [00:00<00:00,  1.56it/s]\n",
      "  0%|          | 0/1 [00:00<?, ?it/s]"
     ]
    },
    {
     "name": "stdout",
     "output_type": "stream",
     "text": [
      "Val Loss: 0.09858\n",
      "Epoch 28 of 60\n"
     ]
    },
    {
     "name": "stderr",
     "output_type": "stream",
     "text": [
      "100%|██████████| 1/1 [00:00<00:00,  1.38it/s]\n",
      "  0%|          | 0/1 [00:00<?, ?it/s]"
     ]
    },
    {
     "name": "stdout",
     "output_type": "stream",
     "text": [
      "Val Loss: 0.09858\n",
      "Epoch 29 of 60\n"
     ]
    },
    {
     "name": "stderr",
     "output_type": "stream",
     "text": [
      "100%|██████████| 1/1 [00:00<00:00,  1.20it/s]\n",
      "  0%|          | 0/1 [00:00<?, ?it/s]"
     ]
    },
    {
     "name": "stdout",
     "output_type": "stream",
     "text": [
      "Val Loss: 0.09858\n",
      "Epoch 30 of 60\n"
     ]
    },
    {
     "name": "stderr",
     "output_type": "stream",
     "text": [
      "100%|██████████| 1/1 [00:00<00:00,  1.17it/s]\n",
      "  0%|          | 0/1 [00:00<?, ?it/s]"
     ]
    },
    {
     "name": "stdout",
     "output_type": "stream",
     "text": [
      "Val Loss: 0.09858\n",
      "Epoch 31 of 60\n"
     ]
    },
    {
     "name": "stderr",
     "output_type": "stream",
     "text": [
      "100%|██████████| 1/1 [00:00<00:00,  1.08it/s]\n",
      "  0%|          | 0/1 [00:00<?, ?it/s]"
     ]
    },
    {
     "name": "stdout",
     "output_type": "stream",
     "text": [
      "Val Loss: 0.09858\n",
      "Epoch 32 of 60\n"
     ]
    },
    {
     "name": "stderr",
     "output_type": "stream",
     "text": [
      "100%|██████████| 1/1 [00:00<00:00,  1.30it/s]\n",
      "  0%|          | 0/1 [00:00<?, ?it/s]"
     ]
    },
    {
     "name": "stdout",
     "output_type": "stream",
     "text": [
      "Val Loss: 0.09858\n",
      "Epoch 33 of 60\n"
     ]
    },
    {
     "name": "stderr",
     "output_type": "stream",
     "text": [
      "100%|██████████| 1/1 [00:00<00:00,  1.42it/s]\n",
      "  0%|          | 0/1 [00:00<?, ?it/s]"
     ]
    },
    {
     "name": "stdout",
     "output_type": "stream",
     "text": [
      "Val Loss: 0.09858\n",
      "Epoch 34 of 60\n"
     ]
    },
    {
     "name": "stderr",
     "output_type": "stream",
     "text": [
      "100%|██████████| 1/1 [00:00<00:00,  1.45it/s]\n",
      "  0%|          | 0/1 [00:00<?, ?it/s]"
     ]
    },
    {
     "name": "stdout",
     "output_type": "stream",
     "text": [
      "Val Loss: 0.09858\n",
      "Epoch 35 of 60\n"
     ]
    },
    {
     "name": "stderr",
     "output_type": "stream",
     "text": [
      "100%|██████████| 1/1 [00:00<00:00,  1.47it/s]\n",
      "  0%|          | 0/1 [00:00<?, ?it/s]"
     ]
    },
    {
     "name": "stdout",
     "output_type": "stream",
     "text": [
      "Val Loss: 0.09858\n",
      "Epoch 36 of 60\n"
     ]
    },
    {
     "name": "stderr",
     "output_type": "stream",
     "text": [
      "100%|██████████| 1/1 [00:00<00:00,  1.24it/s]\n",
      "  0%|          | 0/1 [00:00<?, ?it/s]"
     ]
    },
    {
     "name": "stdout",
     "output_type": "stream",
     "text": [
      "Val Loss: 0.09858\n",
      "Epoch 37 of 60\n"
     ]
    },
    {
     "name": "stderr",
     "output_type": "stream",
     "text": [
      "100%|██████████| 1/1 [00:00<00:00,  1.30it/s]\n",
      "  0%|          | 0/1 [00:00<?, ?it/s]"
     ]
    },
    {
     "name": "stdout",
     "output_type": "stream",
     "text": [
      "Val Loss: 0.09858\n",
      "Epoch 38 of 60\n"
     ]
    },
    {
     "name": "stderr",
     "output_type": "stream",
     "text": [
      "100%|██████████| 1/1 [00:00<00:00,  1.42it/s]\n",
      "  0%|          | 0/1 [00:00<?, ?it/s]"
     ]
    },
    {
     "name": "stdout",
     "output_type": "stream",
     "text": [
      "Val Loss: 0.09858\n",
      "Epoch 39 of 60\n"
     ]
    },
    {
     "name": "stderr",
     "output_type": "stream",
     "text": [
      "100%|██████████| 1/1 [00:00<00:00,  1.55it/s]\n",
      "  0%|          | 0/1 [00:00<?, ?it/s]"
     ]
    },
    {
     "name": "stdout",
     "output_type": "stream",
     "text": [
      "Val Loss: 0.09858\n",
      "Epoch 40 of 60\n"
     ]
    },
    {
     "name": "stderr",
     "output_type": "stream",
     "text": [
      "100%|██████████| 1/1 [00:00<00:00,  1.31it/s]\n",
      "  0%|          | 0/1 [00:00<?, ?it/s]"
     ]
    },
    {
     "name": "stdout",
     "output_type": "stream",
     "text": [
      "Val Loss: 0.09858\n",
      "Epoch 41 of 60\n"
     ]
    },
    {
     "name": "stderr",
     "output_type": "stream",
     "text": [
      "100%|██████████| 1/1 [00:00<00:00,  1.34it/s]\n",
      "  0%|          | 0/1 [00:00<?, ?it/s]"
     ]
    },
    {
     "name": "stdout",
     "output_type": "stream",
     "text": [
      "Val Loss: 0.09858\n",
      "Epoch 42 of 60\n"
     ]
    },
    {
     "name": "stderr",
     "output_type": "stream",
     "text": [
      "100%|██████████| 1/1 [00:00<00:00,  1.36it/s]\n",
      "  0%|          | 0/1 [00:00<?, ?it/s]"
     ]
    },
    {
     "name": "stdout",
     "output_type": "stream",
     "text": [
      "Val Loss: 0.09858\n",
      "Epoch 43 of 60\n"
     ]
    },
    {
     "name": "stderr",
     "output_type": "stream",
     "text": [
      "100%|██████████| 1/1 [00:00<00:00,  1.87it/s]\n",
      "  0%|          | 0/1 [00:00<?, ?it/s]"
     ]
    },
    {
     "name": "stdout",
     "output_type": "stream",
     "text": [
      "Val Loss: 0.09858\n",
      "Epoch 44 of 60\n"
     ]
    },
    {
     "name": "stderr",
     "output_type": "stream",
     "text": [
      "100%|██████████| 1/1 [00:00<00:00,  1.65it/s]\n",
      "  0%|          | 0/1 [00:00<?, ?it/s]"
     ]
    },
    {
     "name": "stdout",
     "output_type": "stream",
     "text": [
      "Val Loss: 0.09858\n",
      "Epoch 45 of 60\n"
     ]
    },
    {
     "name": "stderr",
     "output_type": "stream",
     "text": [
      "100%|██████████| 1/1 [00:00<00:00,  1.60it/s]\n",
      "  0%|          | 0/1 [00:00<?, ?it/s]"
     ]
    },
    {
     "name": "stdout",
     "output_type": "stream",
     "text": [
      "Val Loss: 0.09858\n",
      "Epoch 46 of 60\n"
     ]
    },
    {
     "name": "stderr",
     "output_type": "stream",
     "text": [
      "100%|██████████| 1/1 [00:00<00:00,  1.79it/s]\n",
      "  0%|          | 0/1 [00:00<?, ?it/s]"
     ]
    },
    {
     "name": "stdout",
     "output_type": "stream",
     "text": [
      "Val Loss: 0.09858\n",
      "Epoch 47 of 60\n"
     ]
    },
    {
     "name": "stderr",
     "output_type": "stream",
     "text": [
      "100%|██████████| 1/1 [00:00<00:00,  1.37it/s]\n",
      "  0%|          | 0/1 [00:00<?, ?it/s]"
     ]
    },
    {
     "name": "stdout",
     "output_type": "stream",
     "text": [
      "Val Loss: 0.09858\n",
      "Epoch 48 of 60\n"
     ]
    },
    {
     "name": "stderr",
     "output_type": "stream",
     "text": [
      "100%|██████████| 1/1 [00:00<00:00,  1.36it/s]\n",
      "  0%|          | 0/1 [00:00<?, ?it/s]"
     ]
    },
    {
     "name": "stdout",
     "output_type": "stream",
     "text": [
      "Val Loss: 0.09858\n",
      "Epoch 49 of 60\n"
     ]
    },
    {
     "name": "stderr",
     "output_type": "stream",
     "text": [
      "100%|██████████| 1/1 [00:00<00:00,  1.80it/s]\n",
      "  0%|          | 0/1 [00:00<?, ?it/s]"
     ]
    },
    {
     "name": "stdout",
     "output_type": "stream",
     "text": [
      "Val Loss: 0.09858\n",
      "Epoch 50 of 60\n"
     ]
    },
    {
     "name": "stderr",
     "output_type": "stream",
     "text": [
      "100%|██████████| 1/1 [00:00<00:00,  1.11it/s]\n",
      "  0%|          | 0/1 [00:00<?, ?it/s]"
     ]
    },
    {
     "name": "stdout",
     "output_type": "stream",
     "text": [
      "Val Loss: 0.09858\n",
      "Epoch 51 of 60\n"
     ]
    },
    {
     "name": "stderr",
     "output_type": "stream",
     "text": [
      "100%|██████████| 1/1 [00:00<00:00,  1.60it/s]\n",
      "  0%|          | 0/1 [00:00<?, ?it/s]"
     ]
    },
    {
     "name": "stdout",
     "output_type": "stream",
     "text": [
      "Val Loss: 0.09858\n",
      "Epoch 52 of 60\n"
     ]
    },
    {
     "name": "stderr",
     "output_type": "stream",
     "text": [
      "100%|██████████| 1/1 [00:00<00:00,  1.12it/s]\n",
      "  0%|          | 0/1 [00:00<?, ?it/s]"
     ]
    },
    {
     "name": "stdout",
     "output_type": "stream",
     "text": [
      "Val Loss: 0.09858\n",
      "Epoch 53 of 60\n"
     ]
    },
    {
     "name": "stderr",
     "output_type": "stream",
     "text": [
      "100%|██████████| 1/1 [00:00<00:00,  1.65it/s]\n",
      "  0%|          | 0/1 [00:00<?, ?it/s]"
     ]
    },
    {
     "name": "stdout",
     "output_type": "stream",
     "text": [
      "Val Loss: 0.09858\n",
      "Epoch 54 of 60\n"
     ]
    },
    {
     "name": "stderr",
     "output_type": "stream",
     "text": [
      "100%|██████████| 1/1 [00:00<00:00,  1.76it/s]\n",
      "  0%|          | 0/1 [00:00<?, ?it/s]"
     ]
    },
    {
     "name": "stdout",
     "output_type": "stream",
     "text": [
      "Val Loss: 0.09858\n",
      "Epoch 55 of 60\n"
     ]
    },
    {
     "name": "stderr",
     "output_type": "stream",
     "text": [
      "100%|██████████| 1/1 [00:00<00:00,  1.11it/s]\n",
      "  0%|          | 0/1 [00:00<?, ?it/s]"
     ]
    },
    {
     "name": "stdout",
     "output_type": "stream",
     "text": [
      "Val Loss: 0.09858\n",
      "Epoch 56 of 60\n"
     ]
    },
    {
     "name": "stderr",
     "output_type": "stream",
     "text": [
      "100%|██████████| 1/1 [00:00<00:00,  1.34it/s]\n",
      "  0%|          | 0/1 [00:00<?, ?it/s]"
     ]
    },
    {
     "name": "stdout",
     "output_type": "stream",
     "text": [
      "Val Loss: 0.09858\n",
      "Epoch 57 of 60\n"
     ]
    },
    {
     "name": "stderr",
     "output_type": "stream",
     "text": [
      "100%|██████████| 1/1 [00:00<00:00,  1.39it/s]\n",
      "  0%|          | 0/1 [00:00<?, ?it/s]"
     ]
    },
    {
     "name": "stdout",
     "output_type": "stream",
     "text": [
      "Val Loss: 0.09858\n",
      "Epoch 58 of 60\n"
     ]
    },
    {
     "name": "stderr",
     "output_type": "stream",
     "text": [
      "100%|██████████| 1/1 [00:00<00:00,  1.55it/s]\n",
      "  0%|          | 0/1 [00:00<?, ?it/s]"
     ]
    },
    {
     "name": "stdout",
     "output_type": "stream",
     "text": [
      "Val Loss: 0.09858\n",
      "Epoch 59 of 60\n"
     ]
    },
    {
     "name": "stderr",
     "output_type": "stream",
     "text": [
      "100%|██████████| 1/1 [00:00<00:00,  1.24it/s]\n",
      "  0%|          | 0/1 [00:00<?, ?it/s]"
     ]
    },
    {
     "name": "stdout",
     "output_type": "stream",
     "text": [
      "Val Loss: 0.09858\n",
      "Epoch 60 of 60\n"
     ]
    },
    {
     "name": "stderr",
     "output_type": "stream",
     "text": [
      "100%|██████████| 1/1 [00:00<00:00,  1.54it/s]\n"
     ]
    },
    {
     "name": "stdout",
     "output_type": "stream",
     "text": [
      "Val Loss: 0.09858\n",
      "Took -0.719 minutes to train\n"
     ]
    },
    {
     "data": {
      "image/png": "[encoded data removed]",
      "text/plain": [
       "<Figure size 432x288 with 1 Axes>"
      ]
     },
     "metadata": {
      "needs_background": "light"
     },
     "output_type": "display_data"
    },
    {
     "name": "stdout",
     "output_type": "stream",
     "text": [
      "Saving model...\n"
     ]
    },
    {
     "name": "stderr",
     "output_type": "stream",
     "text": [
      "\r",
      "  0%|          | 0/1 [00:00<?, ?it/s]"
     ]
    },
    {
     "name": "stdout",
     "output_type": "stream",
     "text": [
      "['C:/Users/hp/anaconda3/Sem 4/S4 Project/Image Restoration/Dataset/gaussian_blurred/turnpike-blur.jpg']\n",
      "Epoch 1 of 60\n"
     ]
    },
    {
     "name": "stderr",
     "output_type": "stream",
     "text": [
      "100%|██████████| 1/1 [00:00<00:00,  1.73it/s]\n",
      "  0%|          | 0/1 [00:00<?, ?it/s]"
     ]
    },
    {
     "name": "stdout",
     "output_type": "stream",
     "text": [
      "Val Loss: 0.12850\n",
      "Epoch 2 of 60\n"
     ]
    },
    {
     "name": "stderr",
     "output_type": "stream",
     "text": [
      "100%|██████████| 1/1 [00:00<00:00,  1.83it/s]\n",
      "  0%|          | 0/1 [00:00<?, ?it/s]"
     ]
    },
    {
     "name": "stdout",
     "output_type": "stream",
     "text": [
      "Val Loss: 0.12850\n",
      "Epoch 3 of 60\n"
     ]
    },
    {
     "name": "stderr",
     "output_type": "stream",
     "text": [
      "100%|██████████| 1/1 [00:00<00:00,  1.73it/s]\n",
      "  0%|          | 0/1 [00:00<?, ?it/s]"
     ]
    },
    {
     "name": "stdout",
     "output_type": "stream",
     "text": [
      "Val Loss: 0.12850\n",
      "Epoch 4 of 60\n"
     ]
    },
    {
     "name": "stderr",
     "output_type": "stream",
     "text": [
      "100%|██████████| 1/1 [00:00<00:00,  1.81it/s]\n",
      "  0%|          | 0/1 [00:00<?, ?it/s]"
     ]
    },
    {
     "name": "stdout",
     "output_type": "stream",
     "text": [
      "Val Loss: 0.12850\n",
      "Epoch 5 of 60\n"
     ]
    },
    {
     "name": "stderr",
     "output_type": "stream",
     "text": [
      "100%|██████████| 1/1 [00:00<00:00,  1.76it/s]\n",
      "  0%|          | 0/1 [00:00<?, ?it/s]"
     ]
    },
    {
     "name": "stdout",
     "output_type": "stream",
     "text": [
      "Val Loss: 0.12850\n",
      "Epoch 6 of 60\n"
     ]
    },
    {
     "name": "stderr",
     "output_type": "stream",
     "text": [
      "100%|██████████| 1/1 [00:00<00:00,  1.56it/s]\n",
      "  0%|          | 0/1 [00:00<?, ?it/s]"
     ]
    },
    {
     "name": "stdout",
     "output_type": "stream",
     "text": [
      "Val Loss: 0.12850\n",
      "Epoch 7 of 60\n"
     ]
    },
    {
     "name": "stderr",
     "output_type": "stream",
     "text": [
      "100%|██████████| 1/1 [00:00<00:00,  1.68it/s]\n",
      "  0%|          | 0/1 [00:00<?, ?it/s]"
     ]
    },
    {
     "name": "stdout",
     "output_type": "stream",
     "text": [
      "Val Loss: 0.12850\n",
      "Epoch 8 of 60\n"
     ]
    },
    {
     "name": "stderr",
     "output_type": "stream",
     "text": [
      "100%|██████████| 1/1 [00:00<00:00,  1.72it/s]\n",
      "  0%|          | 0/1 [00:00<?, ?it/s]"
     ]
    },
    {
     "name": "stdout",
     "output_type": "stream",
     "text": [
      "Val Loss: 0.12850\n",
      "Epoch 9 of 60\n"
     ]
    },
    {
     "name": "stderr",
     "output_type": "stream",
     "text": [
      "100%|██████████| 1/1 [00:00<00:00,  1.77it/s]\n",
      "  0%|          | 0/1 [00:00<?, ?it/s]"
     ]
    },
    {
     "name": "stdout",
     "output_type": "stream",
     "text": [
      "Val Loss: 0.12850\n",
      "Epoch 10 of 60\n"
     ]
    },
    {
     "name": "stderr",
     "output_type": "stream",
     "text": [
      "100%|██████████| 1/1 [00:00<00:00,  1.68it/s]\n",
      "  0%|          | 0/1 [00:00<?, ?it/s]"
     ]
    },
    {
     "name": "stdout",
     "output_type": "stream",
     "text": [
      "Val Loss: 0.12850\n",
      "Epoch 11 of 60\n"
     ]
    },
    {
     "name": "stderr",
     "output_type": "stream",
     "text": [
      "100%|██████████| 1/1 [00:00<00:00,  1.72it/s]\n",
      "  0%|          | 0/1 [00:00<?, ?it/s]"
     ]
    },
    {
     "name": "stdout",
     "output_type": "stream",
     "text": [
      "Val Loss: 0.12850\n",
      "Epoch 12 of 60\n"
     ]
    },
    {
     "name": "stderr",
     "output_type": "stream",
     "text": [
      "100%|██████████| 1/1 [00:00<00:00,  1.42it/s]\n",
      "  0%|          | 0/1 [00:00<?, ?it/s]"
     ]
    },
    {
     "name": "stdout",
     "output_type": "stream",
     "text": [
      "Val Loss: 0.12850\n",
      "Epoch 13 of 60\n"
     ]
    },
    {
     "name": "stderr",
     "output_type": "stream",
     "text": [
      "100%|██████████| 1/1 [00:00<00:00,  1.44it/s]\n",
      "  0%|          | 0/1 [00:00<?, ?it/s]"
     ]
    },
    {
     "name": "stdout",
     "output_type": "stream",
     "text": [
      "Val Loss: 0.12850\n",
      "Epoch 14 of 60\n"
     ]
    },
    {
     "name": "stderr",
     "output_type": "stream",
     "text": [
      "100%|██████████| 1/1 [00:00<00:00,  1.68it/s]\n",
      "  0%|          | 0/1 [00:00<?, ?it/s]"
     ]
    },
    {
     "name": "stdout",
     "output_type": "stream",
     "text": [
      "Val Loss: 0.12850\n",
      "Epoch 15 of 60\n"
     ]
    },
    {
     "name": "stderr",
     "output_type": "stream",
     "text": [
      "100%|██████████| 1/1 [00:00<00:00,  1.80it/s]\n",
      "  0%|          | 0/1 [00:00<?, ?it/s]"
     ]
    },
    {
     "name": "stdout",
     "output_type": "stream",
     "text": [
      "Val Loss: 0.12850\n",
      "Epoch 16 of 60\n"
     ]
    },
    {
     "name": "stderr",
     "output_type": "stream",
     "text": [
      "100%|██████████| 1/1 [00:00<00:00,  1.68it/s]\n",
      "  0%|          | 0/1 [00:00<?, ?it/s]"
     ]
    },
    {
     "name": "stdout",
     "output_type": "stream",
     "text": [
      "Val Loss: 0.12850\n",
      "Epoch 17 of 60\n"
     ]
    },
    {
     "name": "stderr",
     "output_type": "stream",
     "text": [
      "100%|██████████| 1/1 [00:00<00:00,  1.41it/s]\n",
      "  0%|          | 0/1 [00:00<?, ?it/s]"
     ]
    },
    {
     "name": "stdout",
     "output_type": "stream",
     "text": [
      "Val Loss: 0.12850\n",
      "Epoch 18 of 60\n"
     ]
    },
    {
     "name": "stderr",
     "output_type": "stream",
     "text": [
      "100%|██████████| 1/1 [00:00<00:00,  1.36it/s]\n",
      "  0%|          | 0/1 [00:00<?, ?it/s]"
     ]
    },
    {
     "name": "stdout",
     "output_type": "stream",
     "text": [
      "Val Loss: 0.12850\n",
      "Epoch 19 of 60\n"
     ]
    },
    {
     "name": "stderr",
     "output_type": "stream",
     "text": [
      "100%|██████████| 1/1 [00:00<00:00,  1.44it/s]\n",
      "  0%|          | 0/1 [00:00<?, ?it/s]"
     ]
    },
    {
     "name": "stdout",
     "output_type": "stream",
     "text": [
      "Val Loss: 0.12850\n",
      "Epoch 20 of 60\n"
     ]
    },
    {
     "name": "stderr",
     "output_type": "stream",
     "text": [
      "100%|██████████| 1/1 [00:00<00:00,  1.76it/s]\n",
      "  0%|          | 0/1 [00:00<?, ?it/s]"
     ]
    },
    {
     "name": "stdout",
     "output_type": "stream",
     "text": [
      "Val Loss: 0.12850\n",
      "Epoch 21 of 60\n"
     ]
    },
    {
     "name": "stderr",
     "output_type": "stream",
     "text": [
      "100%|██████████| 1/1 [00:00<00:00,  1.44it/s]\n",
      "  0%|          | 0/1 [00:00<?, ?it/s]"
     ]
    },
    {
     "name": "stdout",
     "output_type": "stream",
     "text": [
      "Val Loss: 0.12850\n",
      "Epoch 22 of 60\n"
     ]
    },
    {
     "name": "stderr",
     "output_type": "stream",
     "text": [
      "100%|██████████| 1/1 [00:00<00:00,  1.52it/s]\n",
      "  0%|          | 0/1 [00:00<?, ?it/s]"
     ]
    },
    {
     "name": "stdout",
     "output_type": "stream",
     "text": [
      "Val Loss: 0.12850\n",
      "Epoch 23 of 60\n"
     ]
    },
    {
     "name": "stderr",
     "output_type": "stream",
     "text": [
      "100%|██████████| 1/1 [00:00<00:00,  1.73it/s]\n",
      "  0%|          | 0/1 [00:00<?, ?it/s]"
     ]
    },
    {
     "name": "stdout",
     "output_type": "stream",
     "text": [
      "Val Loss: 0.12850\n",
      "Epoch 24 of 60\n"
     ]
    },
    {
     "name": "stderr",
     "output_type": "stream",
     "text": [
      "100%|██████████| 1/1 [00:00<00:00,  1.74it/s]\n",
      "  0%|          | 0/1 [00:00<?, ?it/s]"
     ]
    },
    {
     "name": "stdout",
     "output_type": "stream",
     "text": [
      "Val Loss: 0.12850\n",
      "Epoch 25 of 60\n"
     ]
    },
    {
     "name": "stderr",
     "output_type": "stream",
     "text": [
      "100%|██████████| 1/1 [00:00<00:00,  1.79it/s]\n",
      "  0%|          | 0/1 [00:00<?, ?it/s]"
     ]
    },
    {
     "name": "stdout",
     "output_type": "stream",
     "text": [
      "Val Loss: 0.12850\n",
      "Epoch 26 of 60\n"
     ]
    },
    {
     "name": "stderr",
     "output_type": "stream",
     "text": [
      "100%|██████████| 1/1 [00:00<00:00,  1.76it/s]\n",
      "  0%|          | 0/1 [00:00<?, ?it/s]"
     ]
    },
    {
     "name": "stdout",
     "output_type": "stream",
     "text": [
      "Val Loss: 0.12850\n",
      "Epoch 27 of 60\n"
     ]
    },
    {
     "name": "stderr",
     "output_type": "stream",
     "text": [
      "100%|██████████| 1/1 [00:00<00:00,  1.71it/s]\n",
      "  0%|          | 0/1 [00:00<?, ?it/s]"
     ]
    },
    {
     "name": "stdout",
     "output_type": "stream",
     "text": [
      "Val Loss: 0.12850\n",
      "Epoch 28 of 60\n"
     ]
    },
    {
     "name": "stderr",
     "output_type": "stream",
     "text": [
      "100%|██████████| 1/1 [00:00<00:00,  1.80it/s]\n",
      "  0%|          | 0/1 [00:00<?, ?it/s]"
     ]
    },
    {
     "name": "stdout",
     "output_type": "stream",
     "text": [
      "Val Loss: 0.12850\n",
      "Epoch 29 of 60\n"
     ]
    },
    {
     "name": "stderr",
     "output_type": "stream",
     "text": [
      "100%|██████████| 1/1 [00:00<00:00,  1.75it/s]\n",
      "  0%|          | 0/1 [00:00<?, ?it/s]"
     ]
    },
    {
     "name": "stdout",
     "output_type": "stream",
     "text": [
      "Val Loss: 0.12850\n",
      "Epoch 30 of 60\n"
     ]
    },
    {
     "name": "stderr",
     "output_type": "stream",
     "text": [
      "100%|██████████| 1/1 [00:00<00:00,  1.80it/s]\n",
      "  0%|          | 0/1 [00:00<?, ?it/s]"
     ]
    },
    {
     "name": "stdout",
     "output_type": "stream",
     "text": [
      "Val Loss: 0.12850\n",
      "Epoch 31 of 60\n"
     ]
    },
    {
     "name": "stderr",
     "output_type": "stream",
     "text": [
      "100%|██████████| 1/1 [00:00<00:00,  1.59it/s]\n",
      "  0%|          | 0/1 [00:00<?, ?it/s]"
     ]
    },
    {
     "name": "stdout",
     "output_type": "stream",
     "text": [
      "Val Loss: 0.12850\n",
      "Epoch 32 of 60\n"
     ]
    },
    {
     "name": "stderr",
     "output_type": "stream",
     "text": [
      "100%|██████████| 1/1 [00:00<00:00,  1.77it/s]\n",
      "  0%|          | 0/1 [00:00<?, ?it/s]"
     ]
    },
    {
     "name": "stdout",
     "output_type": "stream",
     "text": [
      "Val Loss: 0.12850\n",
      "Epoch 33 of 60\n"
     ]
    },
    {
     "name": "stderr",
     "output_type": "stream",
     "text": [
      "100%|██████████| 1/1 [00:00<00:00,  1.74it/s]\n",
      "  0%|          | 0/1 [00:00<?, ?it/s]"
     ]
    },
    {
     "name": "stdout",
     "output_type": "stream",
     "text": [
      "Val Loss: 0.12850\n",
      "Epoch 34 of 60\n"
     ]
    },
    {
     "name": "stderr",
     "output_type": "stream",
     "text": [
      "100%|██████████| 1/1 [00:00<00:00,  1.75it/s]\n",
      "  0%|          | 0/1 [00:00<?, ?it/s]"
     ]
    },
    {
     "name": "stdout",
     "output_type": "stream",
     "text": [
      "Val Loss: 0.12850\n",
      "Epoch 35 of 60\n"
     ]
    },
    {
     "name": "stderr",
     "output_type": "stream",
     "text": [
      "100%|██████████| 1/1 [00:00<00:00,  1.80it/s]\n",
      "  0%|          | 0/1 [00:00<?, ?it/s]"
     ]
    },
    {
     "name": "stdout",
     "output_type": "stream",
     "text": [
      "Val Loss: 0.12850\n",
      "Epoch 36 of 60\n"
     ]
    },
    {
     "name": "stderr",
     "output_type": "stream",
     "text": [
      "100%|██████████| 1/1 [00:00<00:00,  1.74it/s]\n",
      "  0%|          | 0/1 [00:00<?, ?it/s]"
     ]
    },
    {
     "name": "stdout",
     "output_type": "stream",
     "text": [
      "Val Loss: 0.12850\n",
      "Epoch 37 of 60\n"
     ]
    },
    {
     "name": "stderr",
     "output_type": "stream",
     "text": [
      "100%|██████████| 1/1 [00:00<00:00,  1.54it/s]\n",
      "  0%|          | 0/1 [00:00<?, ?it/s]"
     ]
    },
    {
     "name": "stdout",
     "output_type": "stream",
     "text": [
      "Val Loss: 0.12850\n",
      "Epoch 38 of 60\n"
     ]
    },
    {
     "name": "stderr",
     "output_type": "stream",
     "text": [
      "100%|██████████| 1/1 [00:00<00:00,  1.45it/s]\n",
      "  0%|          | 0/1 [00:00<?, ?it/s]"
     ]
    },
    {
     "name": "stdout",
     "output_type": "stream",
     "text": [
      "Val Loss: 0.12850\n",
      "Epoch 39 of 60\n"
     ]
    },
    {
     "name": "stderr",
     "output_type": "stream",
     "text": [
      "100%|██████████| 1/1 [00:00<00:00,  1.41it/s]\n",
      "  0%|          | 0/1 [00:00<?, ?it/s]"
     ]
    },
    {
     "name": "stdout",
     "output_type": "stream",
     "text": [
      "Val Loss: 0.12850\n",
      "Epoch 40 of 60\n"
     ]
    },
    {
     "name": "stderr",
     "output_type": "stream",
     "text": [
      "100%|██████████| 1/1 [00:00<00:00,  1.72it/s]\n",
      "  0%|          | 0/1 [00:00<?, ?it/s]"
     ]
    },
    {
     "name": "stdout",
     "output_type": "stream",
     "text": [
      "Val Loss: 0.12850\n",
      "Epoch 41 of 60\n"
     ]
    },
    {
     "name": "stderr",
     "output_type": "stream",
     "text": [
      "100%|██████████| 1/1 [00:00<00:00,  1.80it/s]\n",
      "  0%|          | 0/1 [00:00<?, ?it/s]"
     ]
    },
    {
     "name": "stdout",
     "output_type": "stream",
     "text": [
      "Val Loss: 0.12850\n",
      "Epoch 42 of 60\n"
     ]
    },
    {
     "name": "stderr",
     "output_type": "stream",
     "text": [
      "100%|██████████| 1/1 [00:00<00:00,  1.79it/s]\n",
      "  0%|          | 0/1 [00:00<?, ?it/s]"
     ]
    },
    {
     "name": "stdout",
     "output_type": "stream",
     "text": [
      "Val Loss: 0.12850\n",
      "Epoch 43 of 60\n"
     ]
    },
    {
     "name": "stderr",
     "output_type": "stream",
     "text": [
      "100%|██████████| 1/1 [00:00<00:00,  1.84it/s]\n",
      "  0%|          | 0/1 [00:00<?, ?it/s]"
     ]
    },
    {
     "name": "stdout",
     "output_type": "stream",
     "text": [
      "Val Loss: 0.12850\n",
      "Epoch 44 of 60\n"
     ]
    },
    {
     "name": "stderr",
     "output_type": "stream",
     "text": [
      "100%|██████████| 1/1 [00:00<00:00,  1.77it/s]\n",
      "  0%|          | 0/1 [00:00<?, ?it/s]"
     ]
    },
    {
     "name": "stdout",
     "output_type": "stream",
     "text": [
      "Val Loss: 0.12850\n",
      "Epoch 45 of 60\n"
     ]
    },
    {
     "name": "stderr",
     "output_type": "stream",
     "text": [
      "100%|██████████| 1/1 [00:00<00:00,  1.77it/s]\n",
      "  0%|          | 0/1 [00:00<?, ?it/s]"
     ]
    },
    {
     "name": "stdout",
     "output_type": "stream",
     "text": [
      "Val Loss: 0.12850\n",
      "Epoch 46 of 60\n"
     ]
    },
    {
     "name": "stderr",
     "output_type": "stream",
     "text": [
      "100%|██████████| 1/1 [00:00<00:00,  1.80it/s]\n",
      "  0%|          | 0/1 [00:00<?, ?it/s]"
     ]
    },
    {
     "name": "stdout",
     "output_type": "stream",
     "text": [
      "Val Loss: 0.12850\n",
      "Epoch 47 of 60\n"
     ]
    },
    {
     "name": "stderr",
     "output_type": "stream",
     "text": [
      "100%|██████████| 1/1 [00:00<00:00,  1.75it/s]\n",
      "  0%|          | 0/1 [00:00<?, ?it/s]"
     ]
    },
    {
     "name": "stdout",
     "output_type": "stream",
     "text": [
      "Val Loss: 0.12850\n",
      "Epoch 48 of 60\n"
     ]
    },
    {
     "name": "stderr",
     "output_type": "stream",
     "text": [
      "100%|██████████| 1/1 [00:00<00:00,  1.80it/s]\n",
      "  0%|          | 0/1 [00:00<?, ?it/s]"
     ]
    },
    {
     "name": "stdout",
     "output_type": "stream",
     "text": [
      "Val Loss: 0.12850\n",
      "Epoch 49 of 60\n"
     ]
    },
    {
     "name": "stderr",
     "output_type": "stream",
     "text": [
      "100%|██████████| 1/1 [00:00<00:00,  1.72it/s]\n",
      "  0%|          | 0/1 [00:00<?, ?it/s]"
     ]
    },
    {
     "name": "stdout",
     "output_type": "stream",
     "text": [
      "Val Loss: 0.12850\n",
      "Epoch 50 of 60\n"
     ]
    },
    {
     "name": "stderr",
     "output_type": "stream",
     "text": [
      "100%|██████████| 1/1 [00:00<00:00,  1.83it/s]\n",
      "  0%|          | 0/1 [00:00<?, ?it/s]"
     ]
    },
    {
     "name": "stdout",
     "output_type": "stream",
     "text": [
      "Val Loss: 0.12850\n",
      "Epoch 51 of 60\n"
     ]
    },
    {
     "name": "stderr",
     "output_type": "stream",
     "text": [
      "100%|██████████| 1/1 [00:00<00:00,  1.41it/s]\n",
      "  0%|          | 0/1 [00:00<?, ?it/s]"
     ]
    },
    {
     "name": "stdout",
     "output_type": "stream",
     "text": [
      "Val Loss: 0.12850\n",
      "Epoch 52 of 60\n"
     ]
    },
    {
     "name": "stderr",
     "output_type": "stream",
     "text": [
      "100%|██████████| 1/1 [00:00<00:00,  1.53it/s]\n",
      "  0%|          | 0/1 [00:00<?, ?it/s]"
     ]
    },
    {
     "name": "stdout",
     "output_type": "stream",
     "text": [
      "Val Loss: 0.12850\n",
      "Epoch 53 of 60\n"
     ]
    },
    {
     "name": "stderr",
     "output_type": "stream",
     "text": [
      "100%|██████████| 1/1 [00:00<00:00,  1.52it/s]\n",
      "  0%|          | 0/1 [00:00<?, ?it/s]"
     ]
    },
    {
     "name": "stdout",
     "output_type": "stream",
     "text": [
      "Val Loss: 0.12850\n",
      "Epoch 54 of 60\n"
     ]
    },
    {
     "name": "stderr",
     "output_type": "stream",
     "text": [
      "100%|██████████| 1/1 [00:01<00:00,  1.30s/it]\n",
      "  0%|          | 0/1 [00:00<?, ?it/s]"
     ]
    },
    {
     "name": "stdout",
     "output_type": "stream",
     "text": [
      "Val Loss: 0.12850\n",
      "Epoch 55 of 60\n"
     ]
    },
    {
     "name": "stderr",
     "output_type": "stream",
     "text": [
      "100%|██████████| 1/1 [00:01<00:00,  1.12s/it]\n",
      "  0%|          | 0/1 [00:00<?, ?it/s]"
     ]
    },
    {
     "name": "stdout",
     "output_type": "stream",
     "text": [
      "Val Loss: 0.12850\n",
      "Epoch 56 of 60\n"
     ]
    },
    {
     "name": "stderr",
     "output_type": "stream",
     "text": [
      "100%|██████████| 1/1 [00:01<00:00,  1.22s/it]\n",
      "  0%|          | 0/1 [00:00<?, ?it/s]"
     ]
    },
    {
     "name": "stdout",
     "output_type": "stream",
     "text": [
      "Val Loss: 0.12850\n",
      "Epoch 57 of 60\n"
     ]
    },
    {
     "name": "stderr",
     "output_type": "stream",
     "text": [
      "100%|██████████| 1/1 [00:01<00:00,  1.48s/it]\n",
      "  0%|          | 0/1 [00:00<?, ?it/s]"
     ]
    },
    {
     "name": "stdout",
     "output_type": "stream",
     "text": [
      "Val Loss: 0.12850\n",
      "Epoch 58 of 60\n"
     ]
    },
    {
     "name": "stderr",
     "output_type": "stream",
     "text": [
      "100%|██████████| 1/1 [00:00<00:00,  1.10it/s]\n",
      "  0%|          | 0/1 [00:00<?, ?it/s]"
     ]
    },
    {
     "name": "stdout",
     "output_type": "stream",
     "text": [
      "Val Loss: 0.12850\n",
      "Epoch 59 of 60\n"
     ]
    },
    {
     "name": "stderr",
     "output_type": "stream",
     "text": [
      "100%|██████████| 1/1 [00:01<00:00,  1.13s/it]\n",
      "  0%|          | 0/1 [00:00<?, ?it/s]"
     ]
    },
    {
     "name": "stdout",
     "output_type": "stream",
     "text": [
      "Val Loss: 0.12850\n",
      "Epoch 60 of 60\n"
     ]
    },
    {
     "name": "stderr",
     "output_type": "stream",
     "text": [
      "100%|██████████| 1/1 [00:01<00:00,  1.70s/it]\n"
     ]
    },
    {
     "name": "stdout",
     "output_type": "stream",
     "text": [
      "Val Loss: 0.12850\n",
      "Took -0.692 minutes to train\n"
     ]
    },
    {
     "data": {
      "image/png": "[encoded data removed]",
      "text/plain": [
       "<Figure size 432x288 with 1 Axes>"
      ]
     },
     "metadata": {
      "needs_background": "light"
     },
     "output_type": "display_data"
    },
    {
     "name": "stdout",
     "output_type": "stream",
     "text": [
      "Saving model...\n"
     ]
    }
   ],
   "source": [
    "class Mainwindow(Tk):\n",
    "    def __init__(self):\n",
    "        super().__init__()\n",
    "        w=1000\n",
    "        h=800\n",
    "        x=(self.winfo_screenwidth()/2)-(1000/2)\n",
    "        y=0\n",
    "        self.geometry(\"%dx%d+%d+%d\" % (w,h,x,y))\n",
    "        self.title(\"Image Restoration\")\n",
    "        self.configure(background=\"grey30\")\n",
    "        self.label1=Label(self,text=\"IMAGE RESTORATION\",width=45,height=2,font=(\"cambria\",30,\"bold\"),bg=\"grey30\",fg=\"White\")\n",
    "        self.label1.place(x=5,y=10)\n",
    "        self.f1=Frame(self,width=950,height=660,background=\"grey50\")\n",
    "        self.f1.place(x=25,y=110)\n",
    "        self.f2=Frame(self.f1,width=450,height=490,background=\"grey70\")\n",
    "        self.f2.place(x=17,y=20)\n",
    "        self.f3=Frame(self.f1,width=450,height=490,background=\"grey70\")\n",
    "        self.f3.place(x=483,y=20)\n",
    "        self.f4=Frame(self.f1,width=910,height=100,background=\"grey70\")\n",
    "        self.f4.place(x=20,y=530)\n",
    "        \n",
    "        self.f5=LabelFrame(self.f2,width=395,height=370)\n",
    "        self.f5.place(x=25,y=20)\n",
    "        self.f5.img1= Label(self.f2,width=395,height=370,bg=\"grey70\")\n",
    "        self.f5.img1.place(x=25,y=20)\n",
    "        self.uppath=Label(self.f2,justify=RIGHT,text=\"Path\",width=38,height=1,font=(\"cambria\",9,\"italic\"),fg=\"black\",padx=10,pady=7)\n",
    "        self.uppath.place(x=25,y=425)\n",
    "        self.b1=Button(self.f2,text=\"Browse Image\",justify=\"center\",bg=\"Grey60\",font=(\"cambria\",12,\"bold\"),fg=\"Black\",relief=GROOVE,width=13,command=self.uploadimg)\n",
    "        self.b1.place(x=295,y=425);\n",
    "        \n",
    "        self.f6=LabelFrame(self.f3,width=395,height=370)\n",
    "        self.f6.place(x=25,y=20)\n",
    "        #self.f6.img2= Label(self.f3,width=395,height=370,bg=\"Royalblue3\")\n",
    "        #self.f6.img2.place(x=25,y=20)\n",
    "        self.img2 = Canvas(self.f6,width=395,height=370,bg=\"grey70\")\n",
    "        self.img2.pack(expand=YES, fill=BOTH)\n",
    "        self.b2=Button(self.f3,text=\"Save Image\",justify=\"center\",bg=\"Grey60\",font=(\"cambria\",12,\"bold\"),fg=\"Black\",relief=GROOVE,width=13,command=self.saveimg)\n",
    "        self.b2.place(x=155,y=425);\n",
    "        \n",
    "        self.b3=Button(self.f4,text=\"Clear\",justify=\"center\",bg=\"Grey60\",font=(\"cambria\",12,\"bold\"),fg=\"Black\",relief=GROOVE,width=13,command=self.clr)\n",
    "        self.b3.place(x=146,y=30);\n",
    "        self.b4=Button(self.f4,text=\"Restore Image\",justify=\"center\",bg=\"Grey60\",font=(\"cambria\",12,\"bold\"),fg=\"Black\",relief=GROOVE,width=13,command=self.restore)\n",
    "        self.b4.place(x=386,y=30);\n",
    "        self.b5=Button(self.f4,text=\"Exit\",justify=\"center\",bg=\"Grey60\",font=(\"cambria\",12,\"bold\"),fg=\"Black\",relief=GROOVE,width=13,command=self.close)\n",
    "        self.b5.place(x=613,y=30);\n",
    "    def clrmsg(self):\n",
    "        MsgBox = messagebox.askquestion('Clear', 'Are you sure you want to clear', icon = 'warning')  \n",
    "        if MsgBox == 'yes': \n",
    "            self.clr()\n",
    "    def clr(self):\n",
    "            self.uppath.configure(text=\"Path\")\n",
    "            self.img2.delete('all')\n",
    "            self.f2=Frame(self.f1,width=450,height=490,background=\"grey70\")\n",
    "            self.f2.place(x=17,y=20)\n",
    "            self.f5=LabelFrame(self.f2,width=395,height=370)\n",
    "            self.f5.place(x=25,y=20)\n",
    "            self.f5.img1= Label(self.f2,width=395,height=370,bg=\"grey70\")\n",
    "            self.f5.img1.place(x=25,y=20)\n",
    "            self.uppath=Label(self.f2,text=\"Path\",width=38,height=1,font=(\"cambria\",9,\"italic\"),fg=\"black\",padx=10,pady=7)\n",
    "            self.uppath.place(x=25,y=425)\n",
    "            self.b1=Button(self.f2,text=\"Browse Image\",justify=\"center\",bg=\"light Grey\",font=(\"cambria\",12,\"bold\"),fg=\"Black\",relief=GROOVE,width=13,command=self.uploadimg)\n",
    "            self.b1.place(x=295,y=425);\n",
    "    def saveimg(self):\n",
    "        home = os.path.expanduser('../RestoredImages')\n",
    "        svpath = filedialog.asksaveasfilename(initialdir = home,title = \"Select file\",filetypes = (('JPEG', ('*.jpg')),('PNG', '*.png')),defaultextension = ('JPEG', ('*.jpg')))\n",
    "        if not svpath: \n",
    "            return\n",
    "        if svpath is None:\n",
    "            messagebox.showinfo(\"Information\", \"Unsuccessful \")\n",
    "            return\n",
    "        else:\n",
    "            messagebox.showinfo(\"Information\", \"Saved Successfully\")\n",
    "            self.res.save(svpath)\n",
    "    def close(self):\n",
    "        MsgBox = messagebox.askquestion('Exit Application', 'Are you sure you want to exit the application', icon = 'warning')  \n",
    "        if MsgBox == 'yes': \n",
    "            self.destroy()\n",
    "    def restore(self):   \n",
    "        a=[self.fln]\n",
    "        print(a)\n",
    "        # testing\n",
    "        x_val = a\n",
    "        val_data = DeblurDataset(x_val, y_val, transform)\n",
    "        valloader = DataLoader(val_data, batch_size=batch_size, shuffle=True)\n",
    "        valid_loss = []\n",
    "        start = time.time()\n",
    "        for epoch in range(epochs):\n",
    "            print(f\"Epoch {epoch+1} of {epochs}\")\n",
    "            dataloader= valloader\n",
    "            # validation\n",
    "            model.eval()\n",
    "            running_loss = 0.0\n",
    "            with torch.no_grad():\n",
    "                for i, data in tqdm(enumerate(dataloader), total=int(len(val_data)/dataloader.batch_size)):\n",
    "                    blur_image = data[0]\n",
    "                    sharp_image = data[1]\n",
    "                    blur_image = blur_image.to(device)\n",
    "                    sharp_image = sharp_image.to(device)\n",
    "                    outputs = model(blur_image)\n",
    "                    loss = criterion(outputs, sharp_image)\n",
    "                    running_loss += loss.item()\n",
    "                    if epoch == 0 and i == (len(val_data)/dataloader.batch_size)-1:\n",
    "                        save_decoded_image(blur_image.cpu().data, name=f\"{image_dir}blur{epoch}.jpg\")\n",
    "                val_loss = running_loss/len(dataloader.dataset)\n",
    "                print(f\"Val Loss: {val_loss:.5f}\")\n",
    "                save_decoded_image(outputs.cpu().data, name=f\"{image_dir}val_deblurred{epoch}.jpg\")\n",
    "            # End of validation\n",
    "            valid_loss.append(val_loss)\n",
    "            scheduler.step(val_loss)\n",
    "        end = time.time()\n",
    "        print(f\"Took {((start-end)/60):.3f} minutes to train\")\n",
    "        # loss plots\n",
    "        plt.plot(valid_loss, color='red', label='validataion loss')\n",
    "        plt.xlabel('Epochs')\n",
    "        plt.ylabel('Loss')\n",
    "        plt.legend()\n",
    "        plt.savefig(out_dir + 'validationloss.png')\n",
    "        plt.show()\n",
    "        # save the model to disk\n",
    "        print('Saving model...')\n",
    "        torch.save(model.state_dict(), out_dir + 'model.pth')\n",
    "        self.res = cv2.imread(f\"../outputs/saved_images/val_deblurred{epochs-1}.jpg\",cv2.IMREAD_UNCHANGED)\n",
    "        #self.res = cv2.cvtColor(self.res, cv2.COLOR_BGR2RGB)\n",
    "        #self.res=Image.fromarray(self.res)\n",
    "        self.res=cv2.resize(self.res,(395,370))\n",
    "        self.res=Image.fromarray(self.res)\n",
    "        self.resimg=ImageTk.PhotoImage(self.res)\n",
    "        self.img2.create_image(0,0,image=self.resimg, anchor=NW)\n",
    "    def uploadimg(self):\n",
    "        self.clr()\n",
    "        home = os.path.expanduser('..Dataset')\n",
    "        self.fln = filedialog.askopenfilename(initialdir = home, title=\"Select An Image File\",filetype=((\"jpg\",'*.jpg'),(\"png\",\"*.png\")))\n",
    "        if not self.fln: \n",
    "            return\n",
    "        self.basename = os.path.basename(self.fln)\n",
    "        self.uppath.config(text=self.fln)\n",
    "        self.img=Image.open(self.fln)\n",
    "        self.img=self.img.resize((395,370))\n",
    "        self.up=ImageTk.PhotoImage(self.img)\n",
    "        self.f5.img1.configure(image=self.up)\n",
    "        self.f5.img1.image=self.up\n",
    "if __name__ == \"__main__\": \n",
    "    root = Mainwindow()  \n",
    "    root.mainloop()"
   ]
  },
  {
   "cell_type": "code",
   "execution_count": null,
   "metadata": {},
   "outputs": [],
   "source": []
  }
 ],
 "metadata": {
  "kernelspec": {
   "display_name": "Python 3",
   "language": "python",
   "name": "python3"
  },
  "language_info": {
   "codemirror_mode": {
    "name": "ipython",
    "version": 3
   },
   "file_extension": ".py",
   "mimetype": "text/x-python",
   "name": "python",
   "nbconvert_exporter": "python",
   "pygments_lexer": "ipython3",
   "version": "3.8.3"
  }
 },
 "nbformat": 4,
 "nbformat_minor": 4
}
